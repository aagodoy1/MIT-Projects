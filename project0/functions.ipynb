{
 "cells": [
  {
   "cell_type": "markdown",
   "metadata": {},
   "source": [
    "# Functions for Numpy"
   ]
  },
  {
   "cell_type": "markdown",
   "metadata": {},
   "source": [
    "1) Write a function called randomization that takes as input a positive integer n, and returns A, a random n x 1 Numpy array."
   ]
  },
  {
   "cell_type": "code",
   "execution_count": 13,
   "metadata": {},
   "outputs": [],
   "source": [
    "import random\n",
    "import numpy as np\n",
    "def randomization(n):\n",
    "    \"\"\"\n",
    "    Arg:\n",
    "      n - an integer\n",
    "    Returns:\n",
    "      A - a randomly-generated nx1 Numpy array.\n",
    "    \"\"\"\n",
    "    num_list = []\n",
    "    for x in range(n):\n",
    "        num_list.append(random.randint(0,10))\n",
    "    return np.array(num_list).reshape(n,1)"
   ]
  },
  {
   "cell_type": "code",
   "execution_count": 14,
   "metadata": {},
   "outputs": [
    {
     "name": "stdout",
     "output_type": "stream",
     "text": [
      "[[10]\n",
      " [ 5]\n",
      " [ 2]\n",
      " [ 9]]\n"
     ]
    }
   ],
   "source": [
    "print(randomization(4))"
   ]
  },
  {
   "cell_type": "code",
   "execution_count": null,
   "metadata": {},
   "outputs": [],
   "source": []
  }
 ],
 "metadata": {
  "kernelspec": {
   "display_name": "micromasters_ml_1",
   "language": "python",
   "name": "python3"
  },
  "language_info": {
   "codemirror_mode": {
    "name": "ipython",
    "version": 3
   },
   "file_extension": ".py",
   "mimetype": "text/x-python",
   "name": "python",
   "nbconvert_exporter": "python",
   "pygments_lexer": "ipython3",
   "version": "3.11.11"
  }
 },
 "nbformat": 4,
 "nbformat_minor": 2
}
