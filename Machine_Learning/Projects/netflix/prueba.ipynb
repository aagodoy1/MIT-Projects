{
 "cells": [
  {
   "cell_type": "code",
   "execution_count": 1,
   "id": "67bcc336",
   "metadata": {},
   "outputs": [
    {
     "data": {
      "text/plain": [
       "(3,)"
      ]
     },
     "execution_count": 1,
     "metadata": {},
     "output_type": "execute_result"
    }
   ],
   "source": [
    "import numpy as np\n",
    "ar = np.zeros(3)\n",
    "ar.shape"
   ]
  },
  {
   "cell_type": "code",
   "execution_count": 2,
   "id": "f0bc739c",
   "metadata": {},
   "outputs": [
    {
     "data": {
      "text/plain": [
       "array([0., 0., 0.])"
      ]
     },
     "execution_count": 2,
     "metadata": {},
     "output_type": "execute_result"
    }
   ],
   "source": [
    "ar"
   ]
  },
  {
   "cell_type": "code",
   "execution_count": 3,
   "id": "d4af1ad7",
   "metadata": {},
   "outputs": [
    {
     "name": "stdout",
     "output_type": "stream",
     "text": [
      "Fila 0 - Índices con valores distintos de 0: [0 2 3 5 6]\n",
      "Fila 1 - Índices con valores distintos de 0: [0 3 4 6]\n",
      "Fila 2 - Índices con valores distintos de 0: [0 1 4 5 6]\n",
      "Fila 3 - Índices con valores distintos de 0: [1 2 3 6]\n"
     ]
    }
   ],
   "source": [
    "import numpy as np\n",
    "\n",
    "arr = np.array([\n",
    "    [1, 0, 3, 4, 0, 6, 7],\n",
    "    [2, 0, 0, 5, 6, 0, 8],\n",
    "    [3, 2, 0, 0, 7, 8, 9],\n",
    "    [0, 4, 5, 6, 0, 0, 10]\n",
    "])\n",
    "\n",
    "for i, fila in enumerate(arr):\n",
    "    indices_no_cero = np.where(fila != 0)[0]  # obtenemos los índices donde el valor no es 0\n",
    "    print(f\"Fila {i} - Índices con valores distintos de 0: {indices_no_cero}\")\n"
   ]
  },
  {
   "cell_type": "code",
   "execution_count": 1,
   "id": "0c269325",
   "metadata": {},
   "outputs": [],
   "source": [
    "import numpy as np\n",
    "from typing import NamedTuple\n",
    "\n",
    "class GaussianMixture(NamedTuple):\n",
    "    \"\"\"Tuple holding a gaussian mixture\"\"\"\n",
    "    mu: np.ndarray  # (K, d) array - each row corresponds to a gaussian component mean\n",
    "    var: np.ndarray  # (K, ) array - each row corresponds to the variance of a component\n",
    "    p: np.ndarray  # (K, ) array - each row corresponds to the weight of a component\n",
    "\n",
    "# Parámetros del modelo\n",
    "K_mixture = 3  # número de componentes\n",
    "d_mixture = 7  # dimensión de cada media\n",
    "\n",
    "# Generamos valores de ejemplo\n",
    "mu = np.random.rand(K_mixture, d_mixture)            # medias aleatorias\n",
    "var = np.random.rand(K_mixture) + 0.1        # varianzas > 0\n",
    "p = np.random.dirichlet(np.ones(K_mixture))  # pesos que suman 1\n",
    "\n",
    "# Crear la mezcla\n",
    "mixture = GaussianMixture(mu=mu, var=var, p=p)\n",
    "\n",
    "X  = np.array([\n",
    "    [1, 0, 3, 4, 0, 6, 7],\n",
    "    [2, 0, 0, 5, 6, 0, 8],\n",
    "    [3, 2, 0, 0, 7, 8, 9],\n",
    "    [0, 4, 5, 6, 0, 0, 10]\n",
    "])\n",
    "n, d = X.shape\n",
    "K, _ = mixture.mu.shape\n",
    "post = np.zeros((n, K))\n",
    "\n",
    "#0) Calcular las medias\n",
    "\n",
    "# 1) calcular log-posteriori\n",
    "for customer in range(n):\n",
    "    #X_nan = np.where(X[customer] == 0, np.nan, X[customer])\n",
    "    indexes = np.where(X[customer] != 0)[0]\n",
    "    for cluster in range(K):\n",
    "        x_cust_peli = X[customer, indexes]\n",
    "        mu_cluster_peli = mixture.mu[cluster, indexes]\n",
    "        sigma2 = mixture.var[cluster]\n",
    "        p_cust_cluster = mixture.p[cluster]\n",
    "        break\n",
    "    break"
   ]
  },
  {
   "cell_type": "code",
   "execution_count": null,
   "id": "0bcd0851",
   "metadata": {},
   "outputs": [],
   "source": []
  }
 ],
 "metadata": {
  "kernelspec": {
   "display_name": "micromasters_ml_1",
   "language": "python",
   "name": "python3"
  },
  "language_info": {
   "codemirror_mode": {
    "name": "ipython",
    "version": 3
   },
   "file_extension": ".py",
   "mimetype": "text/x-python",
   "name": "python",
   "nbconvert_exporter": "python",
   "pygments_lexer": "ipython3",
   "version": "3.11.11"
  }
 },
 "nbformat": 4,
 "nbformat_minor": 5
}
