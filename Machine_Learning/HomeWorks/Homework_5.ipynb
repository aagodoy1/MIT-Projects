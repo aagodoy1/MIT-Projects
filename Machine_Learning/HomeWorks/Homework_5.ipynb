{
 "cells": [
  {
   "cell_type": "markdown",
   "id": "aebcbb44",
   "metadata": {},
   "source": [
    "In class Excersices"
   ]
  },
  {
   "cell_type": "code",
   "execution_count": 9,
   "id": "ea86693f",
   "metadata": {},
   "outputs": [
    {
     "name": "stdout",
     "output_type": "stream",
     "text": [
      "Convergió en 5 iteraciones\n",
      "V_0^* = [0. 0. 0. 0. 0.]\n",
      "V_1^* = [0. 0. 0. 0. 1.]\n",
      "V_2^* = [0.  0.  0.  0.5 1. ]\n",
      "V_3^* = [0.   0.   0.25 0.5  1.  ]\n",
      "V_4^* = [0.    0.125 0.25  0.5   1.   ]\n",
      "V_5^* = [0.0625 0.125  0.25   0.5    1.    ]\n"
     ]
    }
   ],
   "source": [
    "import numpy as np\n",
    "\n",
    "gamma = 0.5\n",
    "n_states = 5\n",
    "stop_value = 1e-6\n",
    "\n",
    "V = np.zeros(n_states)\n",
    "V_history = [V.copy()]\n",
    "\n",
    "def reward(s):\n",
    "    return 1 if s == n_states - 1 else 0\n",
    "\n",
    "converged = False\n",
    "iteration = 0\n",
    "\n",
    "while True:\n",
    "    V_new = V.copy()\n",
    "    for s in range(n_states - 1):  # Último estado no cambia\n",
    "        V_new[s] = reward(s) + gamma * V[s + 1]\n",
    "    V_new[-1] = 1  # Estado terminal mantiene su valor\n",
    "\n",
    "    delta = np.max(np.abs(V_new - V))\n",
    "    V = V_new\n",
    "    if delta < stop_value:\n",
    "        break\n",
    "    V_history.append(V.copy())\n",
    "    iteration += 1\n",
    "\n",
    "# Mostrar resultados\n",
    "print(f\"Convergió en {iteration} iteraciones\")\n",
    "for i, v in enumerate(V_history):\n",
    "    print(f\"V_{i}^* = {v}\")\n"
   ]
  },
  {
   "cell_type": "code",
   "execution_count": 13,
   "id": "4523e3c9",
   "metadata": {},
   "outputs": [
    {
     "name": "stdout",
     "output_type": "stream",
     "text": [
      "Valor de cada estado tras 100 iteraciones:\n",
      "V(0) = 0.0076\n",
      "V(1) = 0.0242\n",
      "V(2) = 0.0990\n",
      "V(3) = 0.3990\n",
      "V(4) = 1.5990\n"
     ]
    }
   ],
   "source": [
    "import numpy as np\n",
    "\n",
    "# Parámetros del entorno\n",
    "n_states = 5\n",
    "gamma = 0.5\n",
    "n_iterations = 10\n",
    "actions = ['stay', 'left', 'right']\n",
    "\n",
    "# Recompensa: solo al llegar al último estado\n",
    "def reward(s):\n",
    "    return 1 if s == n_states - 1 else 0\n",
    "\n",
    "# Transición estocástica: devuelve lista de (siguiente_estado, probabilidad)\n",
    "def transition(s, action):\n",
    "    transitions = []\n",
    "\n",
    "    if action == 'stay':\n",
    "        if s == 0 or s == n_states - 1:\n",
    "            # En bordes: 50% quedarse, 50% moverse al único vecino\n",
    "            transitions.append((s, 0.5))\n",
    "            neighbor = s + 1 if s == 0 else s - 1\n",
    "            transitions.append((neighbor, 0.5))\n",
    "        else:\n",
    "            # En interior: 25% izquierda, 50% quedarse, 25% derecha\n",
    "            transitions.append((s - 1, 0.25))\n",
    "            transitions.append((s, 0.5))\n",
    "            transitions.append((s + 1, 0.25))\n",
    "\n",
    "    elif action == 'left':\n",
    "        if s == 0:\n",
    "            # Igual que stay en el borde izquierdo\n",
    "            transitions.append((s, 0.5))\n",
    "            transitions.append((s + 1, 0.5))\n",
    "        else:\n",
    "            # 1/3 chance de moverse, 2/3 de fallar (y quedarse)\n",
    "            target = s - 1\n",
    "            transitions.append((s, 2 / 3))     # Falla\n",
    "            transitions.append((target, 1 / 3))  # Éxito\n",
    "\n",
    "    elif action == 'right':\n",
    "        if s == n_states - 1:\n",
    "            # Igual que stay en el borde derecho\n",
    "            transitions.append((s, 0.5))\n",
    "            transitions.append((s - 1, 0.5))\n",
    "        else:\n",
    "            target = s + 1\n",
    "            transitions.append((s, 2 / 3))     # Falla\n",
    "            transitions.append((target, 1 / 3))  # Éxito\n",
    "\n",
    "    return transitions\n",
    "\n",
    "# Inicializar valores\n",
    "V = np.zeros(n_states)\n",
    "\n",
    "# Value Iteration\n",
    "for it in range(n_iterations):\n",
    "    V_new = np.zeros(n_states)\n",
    "    for s in range(n_states):\n",
    "        values = []\n",
    "        for action in actions:\n",
    "            expected_value = 0\n",
    "            for s_next, prob in transition(s, action):\n",
    "                expected_value += prob * (reward(s) + gamma * V[s_next])\n",
    "            values.append(expected_value)\n",
    "        V_new[s] = max(values)\n",
    "    V = V_new\n",
    "\n",
    "# Resultados\n",
    "print(\"Valor de cada estado tras 100 iteraciones:\")\n",
    "for i, v in enumerate(V):\n",
    "    print(f\"V({i}) = {v:.4f}\")\n",
    "\n",
    "\n"
   ]
  },
  {
   "cell_type": "code",
   "execution_count": null,
   "id": "7642876e",
   "metadata": {},
   "outputs": [],
   "source": []
  }
 ],
 "metadata": {
  "kernelspec": {
   "display_name": "micromasters_ml_1",
   "language": "python",
   "name": "python3"
  },
  "language_info": {
   "codemirror_mode": {
    "name": "ipython",
    "version": 3
   },
   "file_extension": ".py",
   "mimetype": "text/x-python",
   "name": "python",
   "nbconvert_exporter": "python",
   "pygments_lexer": "ipython3",
   "version": "3.11.11"
  }
 },
 "nbformat": 4,
 "nbformat_minor": 5
}
