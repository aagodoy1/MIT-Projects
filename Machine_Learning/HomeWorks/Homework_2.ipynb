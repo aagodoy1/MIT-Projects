{
 "cells": [
  {
   "cell_type": "markdown",
   "metadata": {},
   "source": [
    "# HomeWork 1"
   ]
  },
  {
   "cell_type": "markdown",
   "metadata": {},
   "source": [
    "### Page 1"
   ]
  },
  {
   "cell_type": "markdown",
   "metadata": {},
   "source": [
    "Excercise a)"
   ]
  },
  {
   "cell_type": "code",
   "execution_count": 1,
   "metadata": {},
   "outputs": [
    {
     "name": "stdout",
     "output_type": "stream",
     "text": [
      "[[24, 12, 6], [0, 0, 0], [12, 6, 3], [24, 12, 6]]\n"
     ]
    }
   ],
   "source": [
    "import numpy as np\n",
    "\n",
    "# Definir U^(0) como un array de tamaño (4,1)\n",
    "U_0 = np.array([[6], [0], [3], [6]])\n",
    "\n",
    "# Definir V^(0) como un array de tamaño (1,3)\n",
    "V_0 = np.array([[4, 2, 1]])\n",
    "\n",
    "# Calcular X^(0) = U_0 * V_0^T usando el producto de matrices\n",
    "X_0 = U_0 @ V_0\n",
    "\n",
    "# Mostrar la matriz resultante\n",
    "print(X_0.tolist())  # Para obtener el formato de lista de listas\n"
   ]
  },
  {
   "cell_type": "markdown",
   "metadata": {},
   "source": [
    "Excercise b)"
   ]
  },
  {
   "cell_type": "code",
   "execution_count": 6,
   "metadata": {},
   "outputs": [
    {
     "name": "stdout",
     "output_type": "stream",
     "text": [
      "Squared Error Term: 255.5\n",
      "Regularization Term: 51.0\n"
     ]
    }
   ],
   "source": [
    "Y = np.array([\n",
    "    [5, None, 7],\n",
    "    [None, 2, None],\n",
    "    [4, None, None],  # Reemplaza '?' con el valor correcto\n",
    "    [None, 3, 6]\n",
    "], dtype=object)\n",
    "\n",
    "lambda_ = 1\n",
    "\n",
    "# 1. Calcular el Squared Error Term\n",
    "squared_error = 0\n",
    "for i in range(Y.shape[0]):\n",
    "    for j in range(Y.shape[1]):\n",
    "        if Y[i, j] is not None:  # Solo calculamos donde hay datos en Y\n",
    "            squared_error += (Y[i, j] - X_0[i, j]) ** 2\n",
    "\n",
    "squared_error *= 0.5  # Aplicamos el factor 1/2\n",
    "\n",
    "# 2. Calcular el Regularization Term\n",
    "regularization = (lambda_ / 2) * (np.sum(U_0**2) + np.sum(V_0**2))\n",
    "\n",
    "# Mostrar los resultados\n",
    "print(\"Squared Error Term:\", squared_error)\n",
    "print(\"Regularization Term:\", regularization)"
   ]
  },
  {
   "cell_type": "markdown",
   "metadata": {},
   "source": [
    "Excercise c) "
   ]
  },
  {
   "cell_type": "code",
   "execution_count": 8,
   "metadata": {},
   "outputs": [
    {
     "name": "stdout",
     "output_type": "stream",
     "text": [
      "[np.float64(1.5), np.float64(0.8), np.float64(0.9411764705882353), np.float64(2.0)]\n"
     ]
    }
   ],
   "source": [
    "lambda_ = 1\n",
    "\n",
    "# Inicializar el nuevo U^(1) como un vector vacío\n",
    "U_1 = []\n",
    "\n",
    "# Re defininimos V_0\n",
    "V_0 = np.array([4, 2, 1])\n",
    "\n",
    "# Calcular U^(1) usando la actualización por mínimos cuadrados regularizados\n",
    "for a in range(Y.shape[0]):  # Iterar sobre los usuarios\n",
    "    numerador = 0\n",
    "    denominador = 0\n",
    "    for i in range(Y.shape[1]):  # Iterar sobre las películas\n",
    "        if Y[a, i] is not None:  # Solo incluir términos con datos conocidos\n",
    "            numerador += V_0[i] * Y[a, i]\n",
    "            denominador += V_0[i] ** 2\n",
    "    denominador += lambda_  # Agregar la regularización\n",
    "    U_1.append(numerador / denominador)  # Guardar el nuevo valor de U_a\n",
    "\n",
    "# Mostrar los nuevos valores de U^(1)\n",
    "print(U_1)"
   ]
  },
  {
   "cell_type": "code",
   "execution_count": 9,
   "metadata": {},
   "outputs": [
    {
     "data": {
      "text/plain": [
       "[np.float64(1.5),\n",
       " np.float64(0.8),\n",
       " np.float64(0.9411764705882353),\n",
       " np.float64(2.0)]"
      ]
     },
     "execution_count": 9,
     "metadata": {},
     "output_type": "execute_result"
    }
   ],
   "source": [
    "U_1"
   ]
  },
  {
   "cell_type": "code",
   "execution_count": null,
   "metadata": {},
   "outputs": [],
   "source": []
  }
 ],
 "metadata": {
  "kernelspec": {
   "display_name": "micromasters_ml_1",
   "language": "python",
   "name": "python3"
  },
  "language_info": {
   "codemirror_mode": {
    "name": "ipython",
    "version": 3
   },
   "file_extension": ".py",
   "mimetype": "text/x-python",
   "name": "python",
   "nbconvert_exporter": "python",
   "pygments_lexer": "ipython3",
   "version": "3.11.11"
  }
 },
 "nbformat": 4,
 "nbformat_minor": 2
}
