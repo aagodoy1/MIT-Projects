{
 "cells": [
  {
   "cell_type": "markdown",
   "metadata": {},
   "source": [
    "# HomeWork 1\n"
   ]
  },
  {
   "cell_type": "markdown",
   "metadata": {},
   "source": [
    "## Page 1: Perceptron Mistakes"
   ]
  },
  {
   "cell_type": "markdown",
   "metadata": {},
   "source": [
    "Part a) \n",
    "Consider applying the perceptron algorithm through the origin based on a small training set containing three points:\n",
    "\n",
    " x1=[-1,-1],\ty1=1\n",
    "\n",
    " x2=[1,0],\t    y2=-1\n",
    "\n",
    " x3=[-1, 1.5],\ty3=1\n",
    "\n",
    "Given that the algorithm starts with , the first point that the algorithm sees is always considered a mistake. The algorithm starts with some data point and then cycles through the data (in order) until it makes no further mistakes.\n",
    "For every start point identify the number of mistakes and the list of optional sigmas"
   ]
  },
  {
   "cell_type": "code",
   "execution_count": 1,
   "metadata": {},
   "outputs": [
    {
     "name": "stdout",
     "output_type": "stream",
     "text": [
      "Errores:    2\n",
      "List:       [[-1, -1], [-2.0, 0.5]]\n"
     ]
    }
   ],
   "source": [
    "import numpy as np\n",
    "\n",
    "# Define Varibles\n",
    "\n",
    "theta = np.array([0,0])\n",
    "x1=np.array([-1,-1])\n",
    "y1=1\n",
    "\n",
    "x2=np.array([1,0])\n",
    "y2=-1\n",
    "\n",
    "x3=np.array([-1, 1.5])\n",
    "y3=1\n",
    "\n",
    "# Create the cycle\n",
    "\n",
    "tries = 0\n",
    "updates = []\n",
    "error_found = True\n",
    "points = [[x1,y1],[x2,y2],[x3,y3]] #Starts with x1, then x2, then x3\n",
    "while error_found:\n",
    "    #print('start try')\n",
    "    error_found = False #Asume we have no error\n",
    "    for point in points:\n",
    "        #print(f'Point: {point}')\n",
    "        # y_i*theta*x_i  // run the test\n",
    "        if point[1]*np.dot(theta,point[0]) <= 0:\n",
    "            #print(f'error')\n",
    "            error_found = True\n",
    "            # theta = theta + y_i*x_1  // update the classifier\n",
    "            theta = theta + point[1]*point[0]\n",
    "            updates.append(theta)\n",
    "            #print(f'new theta: {theta}')\n",
    "    tries += 1\n",
    "\n",
    "print(f'Errores:    {len(updates)}')\n",
    "print(f'List:       {[arr.tolist() for arr in updates]}')"
   ]
  },
  {
   "cell_type": "markdown",
   "metadata": {},
   "source": [
    "Part b) What if we start from x2 instead of x1? "
   ]
  },
  {
   "cell_type": "code",
   "execution_count": 28,
   "metadata": {},
   "outputs": [
    {
     "name": "stdout",
     "output_type": "stream",
     "text": [
      "Errores:    1\n",
      "List:       [[-1, 0]]\n"
     ]
    }
   ],
   "source": [
    "# Define Varibles\n",
    "\n",
    "theta = np.array([0,0])\n",
    "x1=np.array([-1,-1])\n",
    "y1=1\n",
    "\n",
    "x2=np.array([1,0])\n",
    "y2=-1\n",
    "\n",
    "x3=np.array([-1, 1.5])\n",
    "y3=1\n",
    "\n",
    "# Create the cycle\n",
    "\n",
    "tries = 0\n",
    "updates = []\n",
    "error_found = True\n",
    "points = [[x2,y2],[x3,y3],[x1,y1]] #Starts with x1, then x2, then x3\n",
    "while error_found:\n",
    "    #print('start try')\n",
    "    error_found = False #Asume we have no error\n",
    "    for point in points:\n",
    "        #print(f'Point: {point}')\n",
    "        # y_i*theta*x_i  // run the test\n",
    "        if point[1]*np.dot(theta,point[0]) <= 0:\n",
    "            #print(f'error')\n",
    "            error_found = True\n",
    "            # theta = theta + y_i*x_1  // update the classifier\n",
    "            theta = theta + point[1]*point[0]\n",
    "            updates.append(theta)\n",
    "            #print(f'new theta: {theta}')\n",
    "    tries += 1\n",
    "\n",
    "print(f'Errores:    {len(updates)}')\n",
    "print(f'List:       {[arr.tolist() for arr in updates]}')"
   ]
  },
  {
   "cell_type": "markdown",
   "metadata": {},
   "source": [
    "Part c) What if we start again from x1 but x3 now is[-1,10]? "
   ]
  },
  {
   "cell_type": "code",
   "execution_count": 29,
   "metadata": {},
   "outputs": [
    {
     "name": "stdout",
     "output_type": "stream",
     "text": [
      "Errores:    6\n",
      "List:       [[-1, -1], [-2, 9], [-3, 8], [-4, 7], [-5, 6], [-6, 5]]\n"
     ]
    }
   ],
   "source": [
    "\n",
    "# Define Varibles\n",
    "\n",
    "theta = np.array([0,0])\n",
    "x1=np.array([-1,-1])\n",
    "y1=1\n",
    "\n",
    "x2=np.array([1,0])\n",
    "y2=-1\n",
    "\n",
    "x3=np.array([-1, 10])\n",
    "y3=1\n",
    "\n",
    "# Create the cycle\n",
    "\n",
    "tries = 0\n",
    "updates = []\n",
    "error_found = True\n",
    "points = [[x1,y1],[x2,y2],[x3,y3]] #Starts with x1, then x2, then x3\n",
    "while error_found:\n",
    "    #print('start try')\n",
    "    error_found = False #Asume we have no error\n",
    "    for point in points:\n",
    "        #print(f'Point: {point}')\n",
    "        # y_i*theta*x_i  // run the test\n",
    "        if point[1]*np.dot(theta,point[0]) <= 0:\n",
    "            #print(f'error')\n",
    "            error_found = True\n",
    "            # theta = theta + y_i*x_1  // update the classifier\n",
    "            theta = theta + point[1]*point[0]\n",
    "            updates.append(theta)\n",
    "            #print(f'new theta: {theta}')\n",
    "    tries += 1\n",
    "\n",
    "print(f'Errores:    {len(updates)}')\n",
    "print(f'List:       {[arr.tolist() for arr in updates]}')"
   ]
  },
  {
   "cell_type": "markdown",
   "metadata": {},
   "source": [
    "Part d) What if we start from x2?"
   ]
  },
  {
   "cell_type": "code",
   "execution_count": 30,
   "metadata": {},
   "outputs": [
    {
     "name": "stdout",
     "output_type": "stream",
     "text": [
      "Errores:    1\n",
      "List:       [[-1, 0]]\n"
     ]
    }
   ],
   "source": [
    "# Define Varibles\n",
    "\n",
    "theta = np.array([0,0])\n",
    "x1=np.array([-1,-1])\n",
    "y1=1\n",
    "\n",
    "x2=np.array([1,0])\n",
    "y2=-1\n",
    "\n",
    "x3=np.array([-1, 10])\n",
    "y3=1\n",
    "\n",
    "# Create the cycle\n",
    "\n",
    "tries = 0\n",
    "updates = []\n",
    "error_found = True\n",
    "points = [[x2,y2],[x3,y3],[x1,y1]] #Starts with x1, then x2, then x3\n",
    "while error_found:\n",
    "    #print('start try')\n",
    "    error_found = False #Asume we have no error\n",
    "    for point in points:\n",
    "        #print(f'Point: {point}')\n",
    "        # y_i*theta*x_i  // run the test\n",
    "        if point[1]*np.dot(theta,point[0]) <= 0:\n",
    "            #print(f'error')\n",
    "            error_found = True\n",
    "            # theta = theta + y_i*x_1  // update the classifier\n",
    "            theta = theta + point[1]*point[0]\n",
    "            updates.append(theta)\n",
    "            #print(f'new theta: {theta}')\n",
    "    tries += 1\n",
    "\n",
    "print(f'Errores:    {len(updates)}')\n",
    "print(f'List:       {[arr.tolist() for arr in updates]}')"
   ]
  },
  {
   "cell_type": "markdown",
   "metadata": {},
   "source": [
    "## Page 2: Perceptron Performance\n",
    "\n",
    "In class we initialized the perceptron algorithm with . In this problem we will also explore other initialization choices.\n",
    "\n",
    "The following table shows a data set and the number of times each point is misclassified during a run of the perceptron algorithm (with offset ).  and  are initialized to zero.\n",
    "\n",
    "times misclassified\n",
    "\n",
    "i   xi          yi      missclasified\n",
    "\n",
    "1\t[-4, 2]\t    +1\t        1\n",
    "\n",
    "2\t[-2, 1]\t    +1\t        0\n",
    "\n",
    "3\t[-1, -1]\t-1\t        2\n",
    "\n",
    "4\t[2, 2]\t    -1\t        1\n",
    "\n",
    "5\t[1, -2]\t    -1\t        0\n",
    "\n",
    "Write down the state of  and  after this run has completed (note, the algorithm may not yet have converged). Enter  as a list  and  as a single number in the following boxes."
   ]
  },
  {
   "cell_type": "code",
   "execution_count": 35,
   "metadata": {},
   "outputs": [
    {
     "name": "stdout",
     "output_type": "stream",
     "text": [
      "Done with try number 1\n",
      "Done with try number 2\n",
      "Done with try number 3\n",
      "Done with try number 4\n",
      "Done with try number 5\n",
      "Done with try number 6\n",
      "Done with try number 7\n",
      "Done with try number 8\n",
      "Done with try number 9\n",
      "Done with try number 10\n",
      "List:       [[-4, 2], [-3, 3], [-5, 1], [-4, 2], [-3, 3], [-5, 1], [-4, 2], [-6, 0], [-7, 2], [-6, 3], [-8, 1], [-7, 2], [-9, 0], [-10, 2], [-9, 3], [-11, 1], [-12, 3], [-11, 4], [-13, 2], [-14, 4], [-13, 5], [-15, 3], [-14, 4], [-16, 2], [-17, 4]]\n",
      "Theta0 = -23\n"
     ]
    }
   ],
   "source": [
    "import numpy as np\n",
    "# Define Varibles\n",
    "\n",
    "theta = np.array([0,0])\n",
    "theta0 = 0\n",
    "\n",
    "x1=np.array([-4,2])\n",
    "y1=1\n",
    "\n",
    "x2=np.array([-2,1])\n",
    "y2=1\n",
    "\n",
    "x3=np.array([-1, -1])\n",
    "y3=-1\n",
    "\n",
    "x4=np.array([2, 2])\n",
    "y4=-1\n",
    "\n",
    "x5=np.array([1, -2])\n",
    "y5=-1\n",
    "\n",
    "# Create the cycle\n",
    "\n",
    "tries = 0\n",
    "updates = []\n",
    "error_found = True\n",
    "points = [\n",
    "        [x1,y1,0],\n",
    "        [x2,y2,0],\n",
    "        [x3,y3,0],\n",
    "        [x4,y4,0],\n",
    "        [x5,y5,0]\n",
    "        ] #Starts with x1, then x2, then x3\n",
    "while error_found:\n",
    "\n",
    "    error_found = False #Asume we have no error\n",
    "    for point in points:\n",
    "\n",
    "        # y_i*theta*x_i  // run the test\n",
    "        if point[1]*np.dot(theta,point[0])+theta0 <= 0:\n",
    "\n",
    "            error_found = True\n",
    "            point[2] += 1\n",
    "\n",
    "            # theta = theta + y_i*x_1  // update the classifier\n",
    "            theta = theta + point[1]*point[0]\n",
    "            theta0 += point[1]\n",
    "            updates.append(theta)\n",
    "\n",
    "    tries += 1\n",
    "    print(f'Done with try number {tries}')\n",
    "    if tries==10:\n",
    "        break\n",
    "\n",
    "print(f'List:       {[arr.tolist() for arr in updates]}')\n",
    "print(f'Theta0 = {theta0}')"
   ]
  },
  {
   "cell_type": "markdown",
   "metadata": {},
   "source": [
    "## Page 3: Decision Boundaries"
   ]
  },
  {
   "cell_type": "markdown",
   "metadata": {},
   "source": []
  },
  {
   "cell_type": "code",
   "execution_count": 75,
   "metadata": {},
   "outputs": [
    {
     "name": "stdout",
     "output_type": "stream",
     "text": [
      "Punto 1: El resultado es: False\n",
      "El valor es -1.5\n",
      "-----------\n",
      "Punto 2: El resultado es: False\n",
      "El valor es -0.5\n",
      "-----------\n",
      "Punto 3: El resultado es: False\n",
      "El valor es -2.5\n",
      "-----------\n"
     ]
    }
   ],
   "source": [
    "theta = [-0.5,-1]\n",
    "theta0 = -1\n",
    "\n",
    "x1 = np.array([-1,1])\n",
    "y1 = 1 \n",
    "\n",
    "x2 = np.array([1,-1])\n",
    "y2 = 1 \n",
    "\n",
    "x3 = np.array([1,1])\n",
    "y3 = -1 \n",
    "\n",
    "points = [\n",
    "        x1,\n",
    "        x2,\n",
    "        x3,\n",
    "        ]\n",
    "i = 0\n",
    "se_cumple = []\n",
    "for point in points:\n",
    "    i+=1\n",
    "    resultado = np.dot(theta,point)+theta0 > 0\n",
    "    se_cumple.append(resultado)\n",
    "    print(f'Punto {i}: El resultado es: {resultado}')\n",
    "    #print(f'El punto es {point}')\n",
    "    print(f'El valor es {np.dot(theta,point)+theta0}')\n",
    "    print('-----------')\n",
    "if se_cumple == [True, True, False]:\n",
    "    print('ACA ACA ACA ACA')"
   ]
  },
  {
   "cell_type": "markdown",
   "metadata": {},
   "source": [
    "## Page 4: Linear Support Vector Machines"
   ]
  },
  {
   "cell_type": "code",
   "execution_count": 77,
   "metadata": {},
   "outputs": [
    {
     "data": {
      "text/plain": [
       "array([2., 0.])"
      ]
     },
     "execution_count": 77,
     "metadata": {},
     "output_type": "execute_result"
    }
   ],
   "source": [
    "lamda = 0.5\n",
    "x = np.array([1,0])\n",
    "y = 1\n",
    "theta_hat = x*y/lamda\n",
    "theta_hat"
   ]
  },
  {
   "cell_type": "markdown",
   "metadata": {},
   "source": [
    "# Page 6: Perceptron Updates"
   ]
  },
  {
   "cell_type": "code",
   "execution_count": null,
   "metadata": {},
   "outputs": [
    {
     "name": "stdout",
     "output_type": "stream",
     "text": [
      "Done with try number 1\n",
      "Done with try number 2\n",
      "List:       [[-1.0, 0.0], [-1.0, 1.0]]\n"
     ]
    }
   ],
   "source": [
    "from math import cos, sin\n",
    "import numpy as np\n",
    "\n",
    "\n",
    "theta = np.array([0,0])\n",
    "\n",
    "x1 = np.array([cos(np.pi),0])\n",
    "y1 = 1\n",
    "\n",
    "x2 = np.array([0,cos(2*np.pi)])\n",
    "y2 = 1\n",
    "\n",
    "tries = 0\n",
    "updates = []\n",
    "error_found = True\n",
    "points = [\n",
    "        [x1,y1],\n",
    "        [x2,y2]\n",
    "        ] #Starts with x1, then x2, then x3\n",
    "while error_found:\n",
    "    #print('start try')\n",
    "    error_found = False #Asume we have no error\n",
    "    for point in points:\n",
    "        #print(f'Point: {point}')\n",
    "        # y_i*theta*x_i  // run the test\n",
    "        if point[1]*np.dot(theta,point[0]) <= 0:\n",
    "            #print(f'error')\n",
    "            error_found = True\n",
    "            # theta = theta + y_i*x_1  // update the classifier\n",
    "            theta = theta + point[1]*point[0]\n",
    "            updates.append(theta)\n",
    "            #print(f'new theta: {theta}')\n",
    "    tries += 1\n",
    "    if tries==2:\n",
    "        break\n",
    "\n",
    "print(f'Errores:    {len(updates)}')\n",
    "print(f'List:       {[arr.tolist() for arr in updates]}')"
   ]
  },
  {
   "cell_type": "code",
   "execution_count": null,
   "metadata": {},
   "outputs": [],
   "source": []
  }
 ],
 "metadata": {
  "kernelspec": {
   "display_name": "micromasters_ml_1",
   "language": "python",
   "name": "python3"
  },
  "language_info": {
   "codemirror_mode": {
    "name": "ipython",
    "version": 3
   },
   "file_extension": ".py",
   "mimetype": "text/x-python",
   "name": "python",
   "nbconvert_exporter": "python",
   "pygments_lexer": "ipython3",
   "version": "3.11.11"
  }
 },
 "nbformat": 4,
 "nbformat_minor": 2
}
