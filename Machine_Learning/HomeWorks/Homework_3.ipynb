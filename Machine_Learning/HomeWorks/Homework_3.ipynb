{
 "cells": [
  {
   "cell_type": "markdown",
   "metadata": {},
   "source": [
    "## Problem 1: Neural Network"
   ]
  },
  {
   "cell_type": "code",
   "execution_count": 15,
   "metadata": {},
   "outputs": [],
   "source": [
    "import numpy as np\n",
    "\n",
    "def ReLu(z):\n",
    "    return np.maximum(z, 0)\n",
    "\n",
    "def softmax(V):\n",
    "    numerador_1 = np.exp(V[0])\n",
    "    numerador_2 = np.exp(V[1])\n",
    "    denominador = np.exp(V[0]) + np.exp(V[1])\n",
    "    return np.array([numerador_1/denominador, numerador_2/denominador])\n",
    "\n",
    "W_weights = np.array([\n",
    "    [1,0,-1],\n",
    "    [0,1,-1],\n",
    "    [-1,0,-1],\n",
    "    [0,-1,-1]\n",
    "])\n",
    "\n",
    "V_weights = np.array([\n",
    "    [1,1,1,1,0],\n",
    "    [-1,-1,-1,-1,2]\n",
    "])\n",
    "\n",
    "X = np.array([3, 14])\n"
   ]
  },
  {
   "cell_type": "markdown",
   "metadata": {},
   "source": [
    "parte a) "
   ]
  },
  {
   "cell_type": "markdown",
   "metadata": {},
   "source": [
    "Sabemos que Zi = x1 * w1 + x2 * w2 + w0 \n",
    "y que fi = RELU(z)"
   ]
  },
  {
   "cell_type": "code",
   "execution_count": 23,
   "metadata": {},
   "outputs": [
    {
     "name": "stdout",
     "output_type": "stream",
     "text": [
      "theta1: 0.9999996940977731\n",
      "theta2: 3.059022269256247e-07\n"
     ]
    }
   ],
   "source": [
    "Z = W_weights[:,0] * X[0] + W_weights[:,1] * X[1] + W_weights[:,2]\n",
    "Z = ReLu(Z)\n",
    "\n",
    "\n",
    "V = (V_weights[:,0] * Z[0] + \n",
    "    V_weights[:,1] * Z[1] + \n",
    "    V_weights[:,2] * Z[2] + \n",
    "    V_weights[:,3] * Z[3] +\n",
    "    V_weights[:,4]\n",
    ")\n",
    "V = ReLu(V)\n",
    "\n",
    "theta = softmax(V)\n",
    "print(f'theta1: {theta[0]}')\n",
    "print(f'theta2: {theta[1]}')"
   ]
  },
  {
   "cell_type": "markdown",
   "metadata": {},
   "source": [
    "Parte b) "
   ]
  },
  {
   "cell_type": "markdown",
   "metadata": {},
   "source": [
    "Parte c)"
   ]
  },
  {
   "cell_type": "markdown",
   "metadata": {},
   "source": [
    "Parte d) "
   ]
  },
  {
   "cell_type": "markdown",
   "metadata": {},
   "source": [
    "# Problem 2: LSTM"
   ]
  },
  {
   "cell_type": "markdown",
   "metadata": {},
   "source": [
    "### Context"
   ]
  },
  {
   "cell_type": "code",
   "execution_count": 9,
   "metadata": {},
   "outputs": [
    {
     "name": "stdout",
     "output_type": "stream",
     "text": [
      "Se ha agrado 0 a la lista\n",
      "Se ha agrado 0 a la lista\n",
      "Se ha agrado 1 a la lista\n",
      "Se ha agrado -1 a la lista\n",
      "Se ha agrado 1 a la lista\n",
      "Se ha agrado 0 a la lista\n",
      "Valores de h_t: [0, 0, 1, -1, 1, 0]\n"
     ]
    }
   ],
   "source": [
    "import numpy as np\n",
    "\n",
    "def sigmoid(x):\n",
    "    return 1 if x >= 1 else 0\n",
    "\n",
    "def tanh(x):\n",
    "    return 1 if x >= 1 else -1 if x <= -1 else x\n",
    "\n",
    "# Inicialización de parámetros según el problema\n",
    "W_fh, W_fx, b_f = 0, 0, -100\n",
    "W_ih, W_ix, b_i = 0, 100, 100\n",
    "W_oh, W_ox, b_o = 0, 100, 0\n",
    "W_ch, W_cx, b_c = -100, 50, 0\n",
    "\n",
    "# Secuencia de entrada\n",
    "x_t = [0, 0, 1, 1, 1, 0]\n",
    "\n",
    "# Inicialización de estados\n",
    "h_t = [0]  # h_t almacena todos los valores de h en el tiempo\n",
    "c_t = 0    # Estado de la celda en t=0\n",
    "\n",
    "# Iterar sobre la secuencia de entrada\n",
    "for t in range(len(x_t)):\n",
    "    f_t = sigmoid(W_fh * h_t[-1] + W_fx * x_t[t] + b_f)\n",
    "    i_t = sigmoid(W_ih * h_t[-1] + W_ix * x_t[t] + b_i)\n",
    "    o_t = sigmoid(W_oh * h_t[-1] + W_ox * x_t[t] + b_o)\n",
    "    \n",
    "    c_t = f_t * c_t + i_t * tanh(W_ch * h_t[-1] + W_cx * x_t[t] + b_c)\n",
    "    h_t.append(o_t * tanh(c_t))\n",
    "    print(f'Se ha agrado {o_t * tanh(c_t)} a la lista')\n",
    "\n",
    "# Redondear los valores de h_t al entero más cercano\n",
    "#h_t = np.round(h_t).astype(int)\n",
    "#h_t = np.round(h_t, 2)\n",
    "\n",
    "# Imprimir el resultado\n",
    "print(\"Valores de h_t:\", list(h_t[1:]))"
   ]
  },
  {
   "cell_type": "markdown",
   "metadata": {},
   "source": [
    "### Part b)"
   ]
  },
  {
   "cell_type": "code",
   "execution_count": 10,
   "metadata": {},
   "outputs": [
    {
     "name": "stdout",
     "output_type": "stream",
     "text": [
      "Se ha agrado 1 a la lista\n",
      "Se ha agrado -1 a la lista\n",
      "Se ha agrado 0 a la lista\n",
      "Se ha agrado 1 a la lista\n",
      "Se ha agrado -1 a la lista\n",
      "Valores de h_t: [1, -1, 0, 1, -1]\n"
     ]
    }
   ],
   "source": [
    "import numpy as np\n",
    "\n",
    "def sigmoid(x):\n",
    "    return 1 if x >= 1 else 0\n",
    "\n",
    "def tanh(x):\n",
    "    return 1 if x >= 1 else -1 if x <= -1 else x\n",
    "\n",
    "# Inicialización de parámetros según el problema\n",
    "W_fh, W_fx, b_f = 0, 0, -100\n",
    "W_ih, W_ix, b_i = 0, 100, 100\n",
    "W_oh, W_ox, b_o = 0, 100, 0\n",
    "W_ch, W_cx, b_c = -100, 50, 0\n",
    "\n",
    "# Secuencia de entrada\n",
    "x_t = [1, 1, 0, 1, 1]\n",
    "\n",
    "# Inicialización de estados\n",
    "h_t = [0]  # h_t almacena todos los valores de h en el tiempo\n",
    "c_t = 0    # Estado de la celda en t=0\n",
    "\n",
    "# Iterar sobre la secuencia de entrada\n",
    "for t in range(len(x_t)):\n",
    "    f_t = sigmoid(W_fh * h_t[-1] + W_fx * x_t[t] + b_f)\n",
    "    i_t = sigmoid(W_ih * h_t[-1] + W_ix * x_t[t] + b_i)\n",
    "    o_t = sigmoid(W_oh * h_t[-1] + W_ox * x_t[t] + b_o)\n",
    "    \n",
    "    c_t = f_t * c_t + i_t * tanh(W_ch * h_t[-1] + W_cx * x_t[t] + b_c)\n",
    "    h_t.append(o_t * tanh(c_t))\n",
    "    print(f'Se ha agrado {o_t * tanh(c_t)} a la lista')\n",
    "\n",
    "# Redondear los valores de h_t al entero más cercano\n",
    "#h_t = np.round(h_t).astype(int)\n",
    "#h_t = np.round(h_t, 2)\n",
    "\n",
    "# Imprimir el resultado\n",
    "print(\"Valores de h_t:\", list(h_t[1:]))"
   ]
  },
  {
   "cell_type": "markdown",
   "metadata": {},
   "source": [
    "### Pregunta Adicional de ejercicios de clase"
   ]
  },
  {
   "cell_type": "code",
   "execution_count": 10,
   "metadata": {},
   "outputs": [
    {
     "name": "stdout",
     "output_type": "stream",
     "text": [
      "En el intento 0 vamos a multiplicar f: [ 1  3 -1] con [ 1  0 -1] y el resultado fue 2\n",
      "En el intento 1 vamos a multiplicar f: [ 3 -1  1] con [ 1  0 -1] y el resultado fue 2\n",
      "En el intento 2 vamos a multiplicar f: [-1  1 -3] con [ 1  0 -1] y el resultado fue 2\n",
      "En el intento 0 vamos a multiplicar f: [0 1 3] con [ 1  0 -1] y el resultado fue -3\n",
      "En el intento 1 vamos a multiplicar f: [ 1  3 -1] con [ 1  0 -1] y el resultado fue 2\n",
      "En el intento 2 vamos a multiplicar f: [ 3 -1  1] con [ 1  0 -1] y el resultado fue 2\n",
      "En el intento 3 vamos a multiplicar f: [-1  1 -3] con [ 1  0 -1] y el resultado fue 2\n",
      "En el intento 4 vamos a multiplicar f: [ 1 -3  0] con [ 1  0 -1] y el resultado fue 1\n",
      "Convolution output without zero padding: [2, 2, 2]\n",
      "Convolution output with zero padding: [-3, 2, 2, 2, 1]\n"
     ]
    }
   ],
   "source": [
    "import numpy as np\n",
    "\n",
    "def discrete_convolution(f, g):\n",
    "    \"\"\"Computes the 1D discrete convolution of f and g without padding.\"\"\"\n",
    "    f_len = len(f)\n",
    "    g_len = len(g)\n",
    "    output_length = f_len - g_len + 1  # No zero padding\n",
    "    result = np.zeros(output_length)\n",
    "\n",
    "    for i in range(output_length):\n",
    "        print(f'En el intento {i} vamos a multiplicar f: {f[i:i+g_len]} con {g[::-1]} y el resultado fue {np.sum(f[i:i+g_len] * g[::-1])}')\n",
    "        result[i] = np.sum(f[i:i+g_len] * g[::-1])  # Flip g and compute dot product\n",
    "\n",
    "    return result.astype(int).tolist()\n",
    "\n",
    "# Input signals\n",
    "f = np.array([1, 3, -1, 1, -3])\n",
    "g_prima = np.array([1, 0, -1])\n",
    "g = g_prima[::-1]\n",
    "\n",
    "#f = np.array([1,2,3])\n",
    "#g = np.array([2,1])\n",
    "\n",
    "# Compute convolution without padding\n",
    "conv_result_no_padding = discrete_convolution(f, g)\n",
    "\n",
    "# Compute convolution with zero padding on both edges\n",
    "f_padded = np.pad(f, (1, 1), mode='constant', constant_values=0)\n",
    "conv_result_with_padding = discrete_convolution(f_padded, g)\n",
    "\n",
    "print(\"Convolution output without zero padding:\", conv_result_no_padding)\n",
    "print(\"Convolution output with zero padding:\", conv_result_with_padding)\n"
   ]
  },
  {
   "cell_type": "code",
   "execution_count": null,
   "metadata": {},
   "outputs": [],
   "source": []
  },
  {
   "cell_type": "markdown",
   "metadata": {},
   "source": []
  }
 ],
 "metadata": {
  "kernelspec": {
   "display_name": "micromasters_ml_1",
   "language": "python",
   "name": "python3"
  },
  "language_info": {
   "codemirror_mode": {
    "name": "ipython",
    "version": 3
   },
   "file_extension": ".py",
   "mimetype": "text/x-python",
   "name": "python",
   "nbconvert_exporter": "python",
   "pygments_lexer": "ipython3",
   "version": "3.11.11"
  }
 },
 "nbformat": 4,
 "nbformat_minor": 2
}
