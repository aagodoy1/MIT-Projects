{
 "cells": [
  {
   "cell_type": "markdown",
   "metadata": {},
   "source": [
    "In class exercises"
   ]
  },
  {
   "cell_type": "code",
   "execution_count": 12,
   "metadata": {},
   "outputs": [
    {
     "name": "stdout",
     "output_type": "stream",
     "text": [
      "p(1 | 1) = 0.29421497\n",
      "p(1 | 2) = 0.62245933\n",
      "p(1 | 3) = 0.65135486\n",
      "p(1 | 4) = 0.10669059\n",
      "p(1 | 5) = 0.05340333\n"
     ]
    }
   ],
   "source": [
    "import numpy as np\n",
    "from scipy.stats import norm\n",
    "\n",
    "# Parámetros dados\n",
    "mu_1 = -3\n",
    "mu_2 = 2\n",
    "sigma2 = 4\n",
    "sigma = np.sqrt(sigma2)\n",
    "p1 = 0.5\n",
    "p2 = 0.5\n",
    "\n",
    "# Datos\n",
    "x_values = np.array([0.2, -0.9, -1, 1.2, 1.8])\n",
    "\n",
    "# Posterior_probs\n",
    "post_cluster_1 = []\n",
    "\n",
    "for i, x in enumerate(x_values, 1):\n",
    "    # Densidades bajo cada cluster\n",
    "    p_x_given_1 = norm.pdf(x, loc=mu_1, scale=sigma)\n",
    "    p_x_given_2 = norm.pdf(x, loc=mu_2, scale=sigma)\n",
    "    \n",
    "    # Posterior\n",
    "    numerator = p1 * p_x_given_1\n",
    "    denominator = numerator + p2 * p_x_given_2\n",
    "    posterior = numerator / denominator\n",
    "    \n",
    "    post_cluster_1.append(posterior)\n",
    "\n",
    "    print(f\"p(1 | {i}) = {posterior:.8f}\")\n",
    "post_cluster_1 = np.array(post_cluster_1)\n",
    "#\n",
    "#print(f'Imrpmir nomr {norm(x_values[0],mu_1,sigma)}')"
   ]
  },
  {
   "cell_type": "markdown",
   "metadata": {},
   "source": [
    "Parameters"
   ]
  },
  {
   "cell_type": "code",
   "execution_count": 21,
   "metadata": {},
   "outputs": [
    {
     "data": {
      "text/plain": [
       "1"
      ]
     },
     "execution_count": 21,
     "metadata": {},
     "output_type": "execute_result"
    }
   ],
   "source": [
    "post_cluster_1.ndim"
   ]
  },
  {
   "cell_type": "code",
   "execution_count": null,
   "metadata": {},
   "outputs": [
    {
     "name": "stdout",
     "output_type": "stream",
     "text": [
      "p_hat_1 = 0.34562461835527464\n",
      "mu_hat_1 = -0.5373289474340418\n",
      "sigma_hat_1 = 0.5757859076870627\n"
     ]
    }
   ],
   "source": [
    "print(f'p_hat_1 = {sum(post_cluster_1)/len(post_cluster_1)}')\n",
    "\n",
    "mu_hat_1 = (x_values@post_cluster_1)/sum(post_cluster_1)\n",
    "\n",
    "print(f'mu_hat_1 = {mu_hat_1}')\n",
    "\n",
    "d = post_cluster_1.ndim\n",
    "\n",
    "norm = x_values-mu_hat_1\n",
    "norm = norm**2\n",
    "\n",
    "sigma_hat_1 = (post_cluster_1 @ norm) / (d * sum(post_cluster_1))\n",
    "print(f'sigma_hat_1 = {sigma_hat_1}')\n",
    "\n"
   ]
  },
  {
   "cell_type": "markdown",
   "metadata": {},
   "source": [
    "# Homework 4"
   ]
  },
  {
   "cell_type": "code",
   "execution_count": 1,
   "metadata": {},
   "outputs": [],
   "source": [
    "import numpy as np\n",
    "from k_medoids import KMedoids\n",
    "from k_medians import kmedians\n",
    "\n",
    "x_values = np.array([[0,-6], [4,4], [0,0], [-5,2]]) \n",
    "\n",
    "k = 2\n",
    "centers = [0, -1]"
   ]
  },
  {
   "cell_type": "code",
   "execution_count": null,
   "metadata": {},
   "outputs": [
    {
     "name": "stdout",
     "output_type": "stream",
     "text": [
      "Etiquetas: [0 1 0 1]\n",
      "Medoides: [[ 0 -6]\n",
      " [ 4  4]]\n"
     ]
    }
   ],
   "source": [
    "kmedoids_model_l1 = KMedoids(\n",
    "    n_clusters=2,\n",
    "    init=centers,              # índices personalizados\n",
    "    metric='manhattan',        # o 'euclidean'\n",
    "    max_iter=300\n",
    ")\n",
    "\n",
    "kmedoids_model_l1.fit(x_values)\n",
    "\n",
    "print(\"Etiquetas:\", kmedoids_model_l1.labels_)\n",
    "print(\"Medoides:\", kmedoids_model_l1.cluster_centers_)"
   ]
  },
  {
   "cell_type": "code",
   "execution_count": 4,
   "metadata": {},
   "outputs": [
    {
     "name": "stdout",
     "output_type": "stream",
     "text": [
      "Etiquetas: [0 1 1 1]\n",
      "Medoides: [[ 0 -6]\n",
      " [ 0  0]]\n"
     ]
    }
   ],
   "source": [
    "kmedoids_model_l2 = KMedoids(\n",
    "    n_clusters=2,\n",
    "    init=centers,              # índices personalizados\n",
    "    metric='euclidean',        # o 'euclidean'\n",
    "    max_iter=300\n",
    ")\n",
    "\n",
    "kmedoids_model_l2.fit(x_values)\n",
    "\n",
    "print(\"Etiquetas:\", kmedoids_model_l2.labels_)\n",
    "print(\"Medoides:\", kmedoids_model_l2.cluster_centers_)"
   ]
  },
  {
   "cell_type": "code",
   "execution_count": 2,
   "metadata": {},
   "outputs": [
    {
     "name": "stdout",
     "output_type": "stream",
     "text": [
      "Etiquetas: [0 1 0 1]\n",
      "Centros (medianas): [[ 0.  -3. ]\n",
      " [-0.5  3. ]]\n"
     ]
    }
   ],
   "source": [
    "labels, centers = kmedians(x_values, k=k, init=centers)\n",
    "\n",
    "print(\"Etiquetas:\", labels)\n",
    "print(\"Centros (medianas):\", centers)"
   ]
  },
  {
   "cell_type": "code",
   "execution_count": null,
   "metadata": {},
   "outputs": [],
   "source": []
  }
 ],
 "metadata": {
  "kernelspec": {
   "display_name": "micromasters_ml_2",
   "language": "python",
   "name": "python3"
  },
  "language_info": {
   "codemirror_mode": {
    "name": "ipython",
    "version": 3
   },
   "file_extension": ".py",
   "mimetype": "text/x-python",
   "name": "python",
   "nbconvert_exporter": "python",
   "pygments_lexer": "ipython3",
   "version": "3.11.11"
  }
 },
 "nbformat": 4,
 "nbformat_minor": 2
}
