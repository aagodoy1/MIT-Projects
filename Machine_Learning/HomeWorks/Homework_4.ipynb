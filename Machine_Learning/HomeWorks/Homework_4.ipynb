{
 "cells": [
  {
   "cell_type": "markdown",
   "metadata": {},
   "source": [
    "In class exercises"
   ]
  },
  {
   "cell_type": "code",
   "execution_count": 12,
   "metadata": {},
   "outputs": [
    {
     "name": "stdout",
     "output_type": "stream",
     "text": [
      "p(1 | 1) = 0.29421497\n",
      "p(1 | 2) = 0.62245933\n",
      "p(1 | 3) = 0.65135486\n",
      "p(1 | 4) = 0.10669059\n",
      "p(1 | 5) = 0.05340333\n"
     ]
    }
   ],
   "source": [
    "import numpy as np\n",
    "from scipy.stats import norm\n",
    "\n",
    "# Parámetros dados\n",
    "mu_1 = -3\n",
    "mu_2 = 2\n",
    "sigma2 = 4\n",
    "sigma = np.sqrt(sigma2)\n",
    "p1 = 0.5\n",
    "p2 = 0.5\n",
    "\n",
    "# Datos\n",
    "x_values = np.array([0.2, -0.9, -1, 1.2, 1.8])\n",
    "\n",
    "# Posterior_probs\n",
    "post_cluster_1 = []\n",
    "\n",
    "for i, x in enumerate(x_values, 1):\n",
    "    # Densidades bajo cada cluster\n",
    "    p_x_given_1 = norm.pdf(x, loc=mu_1, scale=sigma)\n",
    "    p_x_given_2 = norm.pdf(x, loc=mu_2, scale=sigma)\n",
    "    \n",
    "    # Posterior\n",
    "    numerator = p1 * p_x_given_1\n",
    "    denominator = numerator + p2 * p_x_given_2\n",
    "    posterior = numerator / denominator\n",
    "    \n",
    "    post_cluster_1.append(posterior)\n",
    "\n",
    "    print(f\"p(1 | {i}) = {posterior:.8f}\")\n",
    "post_cluster_1 = np.array(post_cluster_1)\n",
    "#\n",
    "#print(f'Imrpmir nomr {norm(x_values[0],mu_1,sigma)}')"
   ]
  },
  {
   "cell_type": "markdown",
   "metadata": {},
   "source": [
    "Parameters"
   ]
  },
  {
   "cell_type": "code",
   "execution_count": 21,
   "metadata": {},
   "outputs": [
    {
     "data": {
      "text/plain": [
       "1"
      ]
     },
     "execution_count": 21,
     "metadata": {},
     "output_type": "execute_result"
    }
   ],
   "source": [
    "post_cluster_1.ndim"
   ]
  },
  {
   "cell_type": "code",
   "execution_count": null,
   "metadata": {},
   "outputs": [
    {
     "name": "stdout",
     "output_type": "stream",
     "text": [
      "p_hat_1 = 0.34562461835527464\n",
      "mu_hat_1 = -0.5373289474340418\n",
      "sigma_hat_1 = 0.5757859076870627\n"
     ]
    }
   ],
   "source": [
    "print(f'p_hat_1 = {sum(post_cluster_1)/len(post_cluster_1)}')\n",
    "\n",
    "mu_hat_1 = (x_values@post_cluster_1)/sum(post_cluster_1)\n",
    "\n",
    "print(f'mu_hat_1 = {mu_hat_1}')\n",
    "\n",
    "d = post_cluster_1.ndim\n",
    "\n",
    "norm = x_values-mu_hat_1\n",
    "norm = norm**2\n",
    "\n",
    "sigma_hat_1 = (post_cluster_1 @ norm) / (d * sum(post_cluster_1))\n",
    "print(f'sigma_hat_1 = {sigma_hat_1}')\n",
    "\n"
   ]
  },
  {
   "cell_type": "markdown",
   "metadata": {},
   "source": [
    "# Homework 4"
   ]
  },
  {
   "cell_type": "markdown",
   "metadata": {},
   "source": [
    "## Problem 1) K means vs K medoids using L1 and L2 distances"
   ]
  },
  {
   "cell_type": "markdown",
   "metadata": {},
   "source": [
    "Context"
   ]
  },
  {
   "cell_type": "code",
   "execution_count": 1,
   "metadata": {},
   "outputs": [],
   "source": [
    "import numpy as np\n",
    "from k_medoids import KMedoids\n",
    "from k_medians import kmedians\n",
    "\n",
    "x_values = np.array([[0,-6], [4,4], [0,0], [-5,2]]) \n",
    "\n",
    "k = 2\n",
    "centers = [0, -1]"
   ]
  },
  {
   "cell_type": "markdown",
   "metadata": {},
   "source": [
    "Part a)"
   ]
  },
  {
   "cell_type": "code",
   "execution_count": null,
   "metadata": {},
   "outputs": [
    {
     "name": "stdout",
     "output_type": "stream",
     "text": [
      "Etiquetas: [0 1 0 1]\n",
      "Medoides: [[ 0 -6]\n",
      " [ 4  4]]\n"
     ]
    }
   ],
   "source": [
    "kmedoids_model_l1 = KMedoids(\n",
    "    n_clusters=2,\n",
    "    init=centers,              # índices personalizados\n",
    "    metric='manhattan',        # o 'euclidean'\n",
    "    max_iter=300\n",
    ")\n",
    "\n",
    "kmedoids_model_l1.fit(x_values)\n",
    "\n",
    "print(\"Etiquetas:\", kmedoids_model_l1.labels_)\n",
    "print(\"Medoides:\", kmedoids_model_l1.cluster_centers_)"
   ]
  },
  {
   "cell_type": "markdown",
   "metadata": {},
   "source": [
    "Part b)"
   ]
  },
  {
   "cell_type": "code",
   "execution_count": 4,
   "metadata": {},
   "outputs": [
    {
     "name": "stdout",
     "output_type": "stream",
     "text": [
      "Etiquetas: [0 1 1 1]\n",
      "Medoides: [[ 0 -6]\n",
      " [ 0  0]]\n"
     ]
    }
   ],
   "source": [
    "kmedoids_model_l2 = KMedoids(\n",
    "    n_clusters=2,\n",
    "    init=centers,              # índices personalizados\n",
    "    metric='euclidean',        # o 'euclidean'\n",
    "    max_iter=300\n",
    ")\n",
    "\n",
    "kmedoids_model_l2.fit(x_values)\n",
    "\n",
    "print(\"Etiquetas:\", kmedoids_model_l2.labels_)\n",
    "print(\"Medoides:\", kmedoids_model_l2.cluster_centers_)"
   ]
  },
  {
   "cell_type": "markdown",
   "metadata": {},
   "source": [
    "Paart c)"
   ]
  },
  {
   "cell_type": "code",
   "execution_count": 2,
   "metadata": {},
   "outputs": [
    {
     "name": "stdout",
     "output_type": "stream",
     "text": [
      "Etiquetas: [0 1 0 1]\n",
      "Centros (medianas): [[ 0.  -3. ]\n",
      " [-0.5  3. ]]\n"
     ]
    }
   ],
   "source": [
    "labels, centers = kmedians(x_values, k=k, init=centers)\n",
    "\n",
    "print(\"Etiquetas:\", labels)\n",
    "print(\"Centros (medianas):\", centers)"
   ]
  },
  {
   "cell_type": "markdown",
   "metadata": {},
   "source": [
    "## Problem 2) Maximum Likelihood Estimation"
   ]
  },
  {
   "cell_type": "code",
   "execution_count": 5,
   "metadata": {},
   "outputs": [
    {
     "name": "stdout",
     "output_type": "stream",
     "text": [
      "Theta_A = 0.42857142857142855\n",
      "Theta_B = 0.35714285714285715\n",
      "Theta_C = 0.21428571428571427\n",
      "ABC: 0.03279883381924198\n",
      "BBB: 0.04555393586005831\n",
      "ABB: 0.05466472303206997\n",
      "AAC: 0.039358600583090375\n"
     ]
    }
   ],
   "source": [
    "text = 'ABABBCABAABCAC'\n",
    "\n",
    "a_count, b_count, c_count = 0,0,0\n",
    "largo = len(text)\n",
    "\n",
    "for letter in text:\n",
    "    if letter == 'A':\n",
    "        a_count+=1\n",
    "    elif letter == 'B':\n",
    "        b_count+= 1\n",
    "    elif letter == 'C':\n",
    "        c_count += 1\n",
    "\n",
    "theta_a = a_count/largo\n",
    "theta_b = b_count/largo\n",
    "theta_c = c_count/largo\n",
    "\n",
    "print(f'Theta_A = {theta_a}')\n",
    "print(f'Theta_B = {theta_b}')\n",
    "print(f'Theta_C = {theta_c}')\n",
    "\n",
    "print(f'ABC: {theta_a*theta_b*theta_c}')\n",
    "print(f'BBB: {theta_b**3}')\n",
    "print(f'ABB: {theta_a*theta_b**2}')\n",
    "print(f'AAC: {theta_a**2 * theta_c}')"
   ]
  },
  {
   "cell_type": "code",
   "execution_count": 7,
   "metadata": {},
   "outputs": [
    {
     "name": "stdout",
     "output_type": "stream",
     "text": [
      "0.0\n"
     ]
    }
   ],
   "source": [
    "proba_null_a = 1\n",
    "\n",
    "#proba de que despues de una A haya una B\n",
    "prob_a_a = 1/6\n",
    "prob_a_b  = 4/6\n",
    "prob_a_c = 1/6\n",
    "\n",
    "prob_b_a = 2/5\n",
    "prob_b_b = 1/5\n",
    "prob_b_c = 2/5\n",
    "\n",
    "prob_c_a = 1\n",
    "prob_c_b = 0\n",
    "prob_c_c = 0\n",
    "\n",
    "\n",
    "#para el texto AABCBAB\n",
    "\n",
    "prob = 1 #null\n",
    "prob *= proba_null_a #A\n",
    "prob *= prob_a_a # A\n",
    "prob *= prob_a_b # B\n",
    "prob *= prob_b_c # C\n",
    "prob *= prob_c_b # B\n",
    "prob *=prob_b_a # A\n",
    "prob *= prob_a_b # B\n",
    "\n",
    "print(prob)\n"
   ]
  },
  {
   "cell_type": "markdown",
   "metadata": {},
   "source": [
    "## Problem 3: EM Algorithm"
   ]
  },
  {
   "cell_type": "markdown",
   "metadata": {},
   "source": [
    "Context"
   ]
  },
  {
   "cell_type": "code",
   "execution_count": 12,
   "metadata": {},
   "outputs": [
    {
     "name": "stdout",
     "output_type": "stream",
     "text": [
      "1.0 2.0\n"
     ]
    }
   ],
   "source": [
    "import numpy as np\n",
    "from scipy.stats import norm\n",
    "\n",
    "pi_1, pi_2, mu1, mu2, sigma_sq_1, sigma_sq_2 = 0.5, 0.5,6,7,1,4\n",
    "\n",
    "sigma_1 = sigma_sq_1**(1/2)\n",
    "sigma_2 = sigma_sq_2**(1/2)\n",
    "\n",
    "x_values = np.array([-1,0,4,5,6])\n",
    "\n",
    "print(sigma_1, sigma_2)"
   ]
  },
  {
   "cell_type": "markdown",
   "metadata": {},
   "source": [
    "Part a) Calculate MLE"
   ]
  },
  {
   "cell_type": "code",
   "execution_count": 16,
   "metadata": {},
   "outputs": [
    {
     "name": "stdout",
     "output_type": "stream",
     "text": [
      "-24.512532330086678\n"
     ]
    }
   ],
   "source": [
    "left = norm.pdf(x_values, mu1, sigma_1)\n",
    "right = norm.pdf(x_values, mu2, sigma_2)\n",
    "\n",
    "p = pi_1 * left + pi_2 * right\n",
    "\n",
    "mle = sum(np.log(p))\n",
    "print(mle)"
   ]
  },
  {
   "cell_type": "markdown",
   "metadata": {},
   "source": [
    "Part b) Do E-Step"
   ]
  },
  {
   "cell_type": "code",
   "execution_count": null,
   "metadata": {},
   "outputs": [],
   "source": []
  }
 ],
 "metadata": {
  "kernelspec": {
   "display_name": "micromasters_ml_2",
   "language": "python",
   "name": "python3"
  },
  "language_info": {
   "codemirror_mode": {
    "name": "ipython",
    "version": 3
   },
   "file_extension": ".py",
   "mimetype": "text/x-python",
   "name": "python",
   "nbconvert_exporter": "python",
   "pygments_lexer": "ipython3",
   "version": "3.11.11"
  }
 },
 "nbformat": 4,
 "nbformat_minor": 2
}
