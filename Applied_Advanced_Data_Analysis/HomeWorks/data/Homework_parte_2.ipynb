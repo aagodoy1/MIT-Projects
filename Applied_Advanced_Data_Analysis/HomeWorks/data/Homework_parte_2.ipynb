{
 "cells": [
  {
   "cell_type": "code",
   "execution_count": 1,
   "id": "cb4004af",
   "metadata": {},
   "outputs": [
    {
     "data": {
      "text/plain": [
       "(2169, 45768)"
      ]
     },
     "execution_count": 1,
     "metadata": {},
     "output_type": "execute_result"
    }
   ],
   "source": [
    "import numpy as np\n",
    "\n",
    "location = 'p2_unsupervised/X.npy'\n",
    "x_data = np.load(location)\n",
    "x_data.shape"
   ]
  },
  {
   "cell_type": "code",
   "execution_count": 2,
   "id": "513d4cad",
   "metadata": {},
   "outputs": [
    {
     "name": "stdout",
     "output_type": "stream",
     "text": [
      "5.972169178513185\n"
     ]
    }
   ],
   "source": [
    "def log_transform(data):\n",
    "    arr_modificado = data.copy()\n",
    "    arr_modificado = np.log2(arr_modificado + 1)\n",
    "    return arr_modificado\n",
    "\n",
    "x_data_transform = log_transform(x_data)\n",
    "x_data_transform.shape\n",
    "print(np.max(x_data_transform[:,0]))"
   ]
  },
  {
   "cell_type": "code",
   "execution_count": null,
   "id": "9ce5584c",
   "metadata": {},
   "outputs": [
    {
     "name": "stdout",
     "output_type": "stream",
     "text": [
      "1. K-Means ejecutado con K=14. Etiquetas obtenidas.\n",
      "2. Data original estandarizada (X_scaled).\n",
      "3. Data dividida en sets de entrenamiento (80%) y prueba (20%).\n"
     ]
    },
    {
     "name": "stderr",
     "output_type": "stream",
     "text": [
      "c:\\Users\\user\\anaconda3\\envs\\micromasters_ml_1\\Lib\\site-packages\\sklearn\\linear_model\\_logistic.py:1917: FutureWarning: 'multi_class' was deprecated in version 1.5 and will be removed in 1.7. Use OneVsRestClassifier(LogisticRegressionCV(..)) instead. Leave it to its default value to avoid this warning.\n",
      "  warnings.warn(\n"
     ]
    },
    {
     "name": "stdout",
     "output_type": "stream",
     "text": [
      "\n",
      "--- Resultados de Validación y Rendimiento (Métrica Real) ---\n",
      "4. Parámetro de Regularización (C) Óptimo: 100.000000 (L1)\n",
      " Precisión en el set de **PRUEBA** (Métrica Real): 0.9032\n",
      "\n",
      "--- Selección de Features ---\n",
      "5. Se han seleccionado 100 índices de características más importantes.\n",
      " Los 5 índices más importantes (genes) son: [[   58    59    60 ... 15469 15525 27573]\n",
      " [    0     1     2 ...  5597 25861 45768]\n",
      " [    0     1     2 ...  5597 25861 45768]\n",
      " [    0     1     2 ...  5597 25861 45768]\n",
      " [45759 45758 45757 ... 45767 45768     0]]\n"
     ]
    }
   ],
   "source": [
    "import numpy as np\n",
    "import matplotlib.pyplot as plt\n",
    "from sklearn.cluster import KMeans\n",
    "from sklearn.decomposition import PCA\n",
    "from sklearn.preprocessing import StandardScaler\n",
    "from sklearn.linear_model import LogisticRegressionCV\n",
    "from sklearn.model_selection import train_test_split # 👈 Importación clave\n",
    "from sklearn.metrics import accuracy_score\n",
    "\n",
    "# --- VARIABLES ASUMIDAS (De los pasos anteriores) ---\n",
    "# x_data_transform: Data original log-transformada (alta dimensión).\n",
    "# ASUMIMOS que x_data_transform está disponible y es una matriz de datos.\n",
    "# --- DEBE SER REEMPLAZADA CON TUS DATOS REALES ---\n",
    "# Ejemplo de datos ficticios si no tienes la variable real:\n",
    "# n_samples, n_features = 1000, 500\n",
    "# x_data_transform = np.random.rand(n_samples, n_features) \n",
    "# ----------------------------------------------------\n",
    "\n",
    "# PASO 1: PCA para reducción de dimensionalidad (para K-Means)\n",
    "pca50 = PCA(n_components=50)\n",
    "X_pca50 = pca50.fit_transform(x_data_transform)\n",
    "K_FINAL = 14 # Número de clusters óptimo.\n",
    "\n",
    "# PASO 2: K-Means para generar etiquetas\n",
    "kmeans = KMeans(n_clusters=K_FINAL, random_state=42, n_init=10)\n",
    "cluster_labels = kmeans.fit_predict(X_pca50) \n",
    "print(f\"1. K-Means ejecutado con K={K_FINAL}. Etiquetas obtenidas.\")\n",
    "\n",
    "# PASO 3: Estandarización de la data original de alta dimensión\n",
    "scaler = StandardScaler()\n",
    "X_scaled = scaler.fit_transform(x_data_transform)\n",
    "print(\"2. Data original estandarizada (X_scaled).\")\n",
    "\n",
    "# --------------------------------------------------------------------------\n",
    "# 🔑 CAMBIO CLAVE: DIVISIÓN EN ENTRENAMIENTO Y PRUEBA\n",
    "# Dividimos los datos escalados y las etiquetas de cluster. \n",
    "# Usaremos 80% para entrenar y 20% para la prueba.\n",
    "# --------------------------------------------------------------------------\n",
    "X_train, X_test, y_train, y_test = train_test_split(\n",
    "    X_scaled, cluster_labels, test_size=0.2, random_state=42, stratify=cluster_labels\n",
    ")\n",
    "print(\"3. Data dividida en sets de entrenamiento (80%) y prueba (20%).\")\n",
    "\n",
    "# ------------------------------------------------------------\n",
    "# PASO 4: REGRESIÓN LOGÍSTICA CON VALIDACIÓN CRUZADA\n",
    "# (Ahora se entrena SOLO con el set de ENTRENAMIENTO)\n",
    "# ------------------------------------------------------------\n",
    "logreg_cv = LogisticRegressionCV(\n",
    "  Cs=5,      # Prueba 5 valores de C\n",
    " penalty='l1',     # Regularización L1 (para selección de features)\n",
    " solver='liblinear',   \n",
    " multi_class='ovr',   \n",
    " cv=3,       # 3-fold Cross-Validation\n",
    " scoring='accuracy',   \n",
    " random_state=42,\n",
    " n_jobs=2 # Usar todos los cores para acelerar\n",
    ")\n",
    "\n",
    "# Entrenamos con los datos de entrenamiento\n",
    "logreg_cv.fit(X_train, y_train)\n",
    "\n",
    "# Extracción de resultados:\n",
    "best_C = logreg_cv.C_[0] \n",
    "# --------------------------------------------------------------------------\n",
    "# 🔑 CÁLCULO DE PRECISIÓN REAL: Usando el set de PRUEBA (X_test, y_test)\n",
    "# --------------------------------------------------------------------------\n",
    "final_accuracy = logreg_cv.score(X_test, y_test)\n",
    "\n",
    "print(f\"\\n--- Resultados de Validación y Rendimiento (Métrica Real) ---\")\n",
    "print(f\"4. Parámetro de Regularización (C) Óptimo: {best_C:.6f} (L1)\")\n",
    "print(f\" Precisión en el set de **PRUEBA** (Métrica Real): {final_accuracy:.4f}\")\n",
    "\n",
    "\n",
    "# ------------------------------------------------------------\n",
    "# PASO 5: SELECCIÓN DE LAS 100 MEJORES CARACTERÍSTICAS\n",
    "# ------------------------------------------------------------\n",
    "\n",
    "# Se usa el coeficiente ajustado con el C óptimo, el procedimiento es el mismo.\n",
    "# NOTA: logreg_cv.coefs_paths_[0] almacena los coeficientes para el primer \n",
    "# fold de CV, lo cual es una simplificación común para la selección L1.\n",
    "feature_importance = np.abs(logreg_cv.coef_).mean(axis=0) # Usar coef_ del modelo final\n",
    "\n",
    "# 2. Encontrar los índices de las 100 características más importantes\n",
    "top_100_indices = np.argsort(feature_importance)[::-1][:100] \n",
    "\n",
    "print(f\"\\n--- Selección de Features ---\")\n",
    "print(f\"5. Se han seleccionado 100 índices de características más importantes.\")\n",
    "print(f\" Los 5 índices más importantes (genes) son: {top_100_indices[:5]}\")"
   ]
  },
  {
   "cell_type": "code",
   "execution_count": 5,
   "id": "4c613894",
   "metadata": {},
   "outputs": [],
   "source": [
    "feature_importance = np.abs(logreg_cv.coef_).mean(axis=0) # Usar coef_ del modelo final\n",
    "\n",
    "# 2. Encontrar los índices de las 100 características más importantes\n",
    "top_100_indices = np.argsort(feature_importance)[::-1][:100] "
   ]
  },
  {
   "cell_type": "code",
   "execution_count": 6,
   "id": "83ec5af2",
   "metadata": {},
   "outputs": [
    {
     "name": "stdout",
     "output_type": "stream",
     "text": [
      "Shape of X_data_train: (1077, 45768)\n",
      "Shape of y_data_train: (1077,)\n",
      "Shape of X_data_test: (1108, 45768)\n",
      "Shape of y_data_test: (1108,)\n",
      "------------------------------\n",
      "Shape of X_train_transform: (1077, 45768)\n",
      "Shape of y_train_transform: (1077,)\n",
      "Shape of X_test_transform: (1108, 45768)\n",
      "Shape of y_test_transform: (1108,)\n"
     ]
    }
   ],
   "source": [
    "import numpy as np\n",
    "\n",
    "location = 'p2_evaluation/'\n",
    "\n",
    "X_data_train =  np.load(location+'X_train.npy')\n",
    "y_data_train =  np.load(location+'y_train.npy')\n",
    "\n",
    "X_data_test = np.load(location+'X_test.npy')\n",
    "y_data_test = np.load(location+'y_test.npy')\n",
    "\n",
    "print(f'Shape of X_data_train: {X_data_train.shape}')\n",
    "print(f'Shape of y_data_train: {y_data_train.shape}')\n",
    "\n",
    "print(f'Shape of X_data_test: {X_data_test.shape}')\n",
    "print(f'Shape of y_data_test: {y_data_test.shape}')\n",
    "\n",
    "print('------------------------------')\n",
    "def log_transform(data):\n",
    "    arr_modificado = data.copy()\n",
    "    arr_modificado = np.log2(arr_modificado + 1)\n",
    "    return arr_modificado\n",
    "\n",
    "X_train_transform = log_transform(X_data_train)\n",
    "y_train_transform = log_transform(y_data_train)\n",
    "\n",
    "X_test_transform = log_transform(X_data_test)\n",
    "y_test_transform = log_transform(y_data_test)\n",
    "\n",
    "print(f'Shape of X_train_transform: {X_train_transform.shape}')\n",
    "print(f'Shape of y_train_transform: {y_train_transform.shape}')\n",
    "\n",
    "print(f'Shape of X_test_transform: {X_test_transform.shape}')\n",
    "print(f'Shape of y_test_transform: {y_test_transform.shape}')"
   ]
  },
  {
   "cell_type": "code",
   "execution_count": 7,
   "id": "9aa19240",
   "metadata": {},
   "outputs": [
    {
     "name": "stderr",
     "output_type": "stream",
     "text": [
      "c:\\Users\\user\\anaconda3\\envs\\micromasters_ml_1\\Lib\\site-packages\\sklearn\\linear_model\\_logistic.py:1256: FutureWarning: 'multi_class' was deprecated in version 1.5 and will be removed in 1.7. Use OneVsRestClassifier(LogisticRegression(..)) instead. Leave it to its default value to avoid this warning.\n",
      "  warnings.warn(\n"
     ]
    },
    {
     "name": "stdout",
     "output_type": "stream",
     "text": [
      "\n",
      "--- 1. Resultado del Modelo con 100 Features Seleccionadas (LogReg) ---\n",
      "Puntaje de Clasificación (Accuracy): 0.7617 <--- ESTE ES EL SCORE A REPORTAR\n"
     ]
    },
    {
     "name": "stderr",
     "output_type": "stream",
     "text": [
      "c:\\Users\\user\\anaconda3\\envs\\micromasters_ml_1\\Lib\\site-packages\\sklearn\\linear_model\\_logistic.py:1256: FutureWarning: 'multi_class' was deprecated in version 1.5 and will be removed in 1.7. Use OneVsRestClassifier(LogisticRegression(..)) instead. Leave it to its default value to avoid this warning.\n",
      "  warnings.warn(\n"
     ]
    },
    {
     "name": "stdout",
     "output_type": "stream",
     "text": [
      "2. Puntaje de Clasificación (Random Baseline): 0.4016\n"
     ]
    },
    {
     "name": "stderr",
     "output_type": "stream",
     "text": [
      "c:\\Users\\user\\anaconda3\\envs\\micromasters_ml_1\\Lib\\site-packages\\sklearn\\linear_model\\_logistic.py:1256: FutureWarning: 'multi_class' was deprecated in version 1.5 and will be removed in 1.7. Use OneVsRestClassifier(LogisticRegression(..)) instead. Leave it to its default value to avoid this warning.\n",
      "  warnings.warn(\n"
     ]
    },
    {
     "name": "stdout",
     "output_type": "stream",
     "text": [
      "3. Puntaje de Clasificación (High-Variance Baseline): 0.9269\n"
     ]
    },
    {
     "data": {
      "image/png": "[encoded data removed]",
      "text/plain": [
       "<Figure size 1000x600 with 1 Axes>"
      ]
     },
     "metadata": {},
     "output_type": "display_data"
    }
   ],
   "source": [
    "import numpy as np\n",
    "import matplotlib.pyplot as plt\n",
    "from sklearn.linear_model import LogisticRegression\n",
    "from sklearn.preprocessing import StandardScaler\n",
    "from sklearn.metrics import accuracy_score\n",
    "\n",
    "# --- VARIABLES REQUERIDAS ---\n",
    "# top_100_indices: Índices de los 100 genes seleccionados del paso anterior.\n",
    "# X_train_transform: Data de entrenamiento log-transformada.\n",
    "# y_data_train: Etiquetas de CLASE originales para el entrenamiento.\n",
    "# X_test_transform: Data de prueba log-transformada.\n",
    "# y_data_test: Etiquetas de CLASE originales para la prueba.\n",
    "# -----------------------------\n",
    "\n",
    "# ------------------------------------------------------------\n",
    "# PASO 1: PREPARACIÓN DE LA DATA FILTRADA (FEATURES SELECCIONADAS)\n",
    "# ------------------------------------------------------------\n",
    "\n",
    "# Filtrar la data de entrenamiento y prueba a solo las 100 features seleccionadas\n",
    "X_train_selected = X_train_transform[:, top_100_indices]\n",
    "X_test_selected = X_test_transform[:, top_100_indices]\n",
    "\n",
    "# Estandarizar la data FILTRADA\n",
    "scaler = StandardScaler()\n",
    "\n",
    "X_train_scaled = scaler.fit_transform(X_train_selected)\n",
    "X_test_scaled = scaler.transform(X_test_selected)\n",
    "\n",
    "\n",
    "# ------------------------------------------------------------\n",
    "# PASO 2: ENTRENAR Y EVALUAR EL MODELO CON LAS FEATURES SELECCIONADAS\n",
    "# ------------------------------------------------------------\n",
    "\n",
    "# Entrenar el clasificador de Regresión Logística\n",
    "logreg_eval = LogisticRegression(\n",
    "    penalty='l2',           # Se usa L2 para la evaluación final\n",
    "    solver='liblinear',\n",
    "    multi_class='ovr',\n",
    "    random_state=42,\n",
    "    C=100                   # Usamos C por defecto (o el óptimo encontrado previamente)\n",
    ")\n",
    "\n",
    "logreg_eval.fit(X_train_scaled, y_data_train)\n",
    "y_pred_selected = logreg_eval.predict(X_test_scaled)\n",
    "score_selected = accuracy_score(y_data_test, y_pred_selected)\n",
    "\n",
    "print(f\"\\n--- 1. Resultado del Modelo con 100 Features Seleccionadas (LogReg) ---\")\n",
    "print(f\"Puntaje de Clasificación (Accuracy): {score_selected:.4f} <--- ESTE ES EL SCORE A REPORTAR\")\n",
    "\n",
    "\n",
    "# ------------------------------------------------------------\n",
    "# PASO 3: CÁLCULO DE BASELINES (Random y High-Variance)\n",
    "# ------------------------------------------------------------\n",
    "\n",
    "# A. BASELINE 1: 100 FEATURES AL AZAR (RANDOM)\n",
    "num_features = X_train_transform.shape[1]\n",
    "# Seleccionar 100 índices al azar\n",
    "np.random.seed(42) # Usar semilla para reproducibilidad\n",
    "random_indices = np.random.choice(num_features, 100, replace=False)\n",
    "\n",
    "X_train_random = X_train_transform[:, random_indices]\n",
    "X_test_random = X_test_transform[:, random_indices]\n",
    "\n",
    "scaler_r = StandardScaler()\n",
    "X_train_random = scaler_r.fit_transform(X_train_random)\n",
    "X_test_random = scaler_r.transform(X_test_random)\n",
    "\n",
    "logreg_random = LogisticRegression(penalty='l2', solver='liblinear', multi_class='ovr', random_state=42)\n",
    "logreg_random.fit(X_train_random, y_data_train)\n",
    "score_random = accuracy_score(y_data_test, logreg_random.predict(X_test_random))\n",
    "\n",
    "print(f\"2. Puntaje de Clasificación (Random Baseline): {score_random:.4f}\")\n",
    "\n",
    "# B. BASELINE 2: 100 FEATURES CON ALTA VARIANZA (HIGH-VARIANCE)\n",
    "# Calcular la varianza sobre el set de entrenamiento transformado\n",
    "variances = np.var(X_train_transform, axis=0)\n",
    "# Obtener los índices de las 100 features de más alta varianza\n",
    "high_variance_indices = np.argsort(variances)[::-1][:100]\n",
    "\n",
    "X_train_hv = X_train_transform[:, high_variance_indices]\n",
    "X_test_hv = X_test_transform[:, high_variance_indices]\n",
    "\n",
    "scaler_hv = StandardScaler()\n",
    "X_train_hv = scaler_hv.fit_transform(X_train_hv)\n",
    "X_test_hv = scaler_hv.transform(X_test_hv)\n",
    "\n",
    "logreg_hv = LogisticRegression(penalty='l2', solver='liblinear', multi_class='ovr', random_state=42)\n",
    "logreg_hv.fit(X_train_hv, y_data_train)\n",
    "score_hv = accuracy_score(y_data_test, logreg_hv.predict(X_test_hv))\n",
    "\n",
    "print(f\"3. Puntaje de Clasificación (High-Variance Baseline): {score_hv:.4f}\")\n",
    "\n",
    "\n",
    "# ------------------------------------------------------------\n",
    "# PASO 4: VISUALIZACIÓN DE LA VARIANZA (HISTOGRAMA)\n",
    "# ------------------------------------------------------------\n",
    "\n",
    "# Varianzas de los 100 genes seleccionados\n",
    "variances_selected = np.var(X_train_transform, axis=0)[top_100_indices]\n",
    "\n",
    "# Varianzas de los 100 genes con alta varianza (los mismos 100 que usamos en el baseline)\n",
    "variances_high_variance = np.var(X_train_transform, axis=0)[high_variance_indices]\n",
    "\n",
    "plt.figure(figsize=(10, 6))\n",
    "# Superponer ambos histogramas (usando density=True para comparar las distribuciones)\n",
    "plt.hist(variances_selected, bins=20, alpha=0.6, label='Seleccionadas por LogReg', density=True)\n",
    "plt.hist(variances_high_variance, bins=20, alpha=0.6, label='Alta Varianza (Baseline)', density=True)\n",
    "\n",
    "plt.title('Distribución de la Varianza: Features Seleccionadas vs. Alta Varianza')\n",
    "plt.xlabel('Varianza de las Features (Genes)')\n",
    "plt.ylabel('Densidad')\n",
    "plt.legend()\n",
    "plt.grid(axis='y', alpha=0.5)\n",
    "plt.show()"
   ]
  },
  {
   "cell_type": "code",
   "execution_count": 8,
   "id": "7862e79f",
   "metadata": {},
   "outputs": [
    {
     "data": {
      "image/png": "[encoded data removed]",
      "text/plain": [
       "<Figure size 1000x600 with 1 Axes>"
      ]
     },
     "metadata": {},
     "output_type": "display_data"
    }
   ],
   "source": [
    "# Variances of the 100 selected genes\n",
    "variances_selected = np.var(X_train_transform, axis=0)[top_100_indices]\n",
    "\n",
    "# Variances of the 100 high-variance genes (the same 100 used for the baseline)\n",
    "variances_high_variance = np.var(X_train_transform, axis=0)[high_variance_indices]\n",
    "\n",
    "plt.figure(figsize=(10, 6))\n",
    "# Overlay both histograms (using density=True to compare distributions)\n",
    "plt.hist(variances_selected, bins=20, alpha=0.6, label='LogReg Selected', density=True)\n",
    "plt.hist(variances_high_variance, bins=20, alpha=0.6, label='High Variance (Baseline)', density=True)\n",
    "\n",
    "plt.title('Variance Distribution: Selected vs. High Variance Features')\n",
    "plt.xlabel('Variance of Features (Genes)')\n",
    "plt.ylabel('Density')\n",
    "plt.legend()\n",
    "plt.grid(axis='y', alpha=0.5)\n",
    "plt.show()"
   ]
  },
  {
   "cell_type": "code",
   "execution_count": null,
   "id": "a3e62cac",
   "metadata": {},
   "outputs": [],
   "source": []
  }
 ],
 "metadata": {
  "kernelspec": {
   "display_name": "micromasters_ml_1",
   "language": "python",
   "name": "python3"
  },
  "language_info": {
   "codemirror_mode": {
    "name": "ipython",
    "version": 3
   },
   "file_extension": ".py",
   "mimetype": "text/x-python",
   "name": "python",
   "nbconvert_exporter": "python",
   "pygments_lexer": "ipython3",
   "version": "3.11.11"
  }
 },
 "nbformat": 4,
 "nbformat_minor": 5
}
