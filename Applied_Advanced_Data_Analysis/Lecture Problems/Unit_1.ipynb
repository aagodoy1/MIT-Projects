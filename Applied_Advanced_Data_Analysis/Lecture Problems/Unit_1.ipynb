{
 "cells": [
  {
   "cell_type": "markdown",
   "id": "c4729372",
   "metadata": {},
   "source": [
    "# Lecture 1"
   ]
  },
  {
   "cell_type": "code",
   "execution_count": 4,
   "id": "dfe1224c",
   "metadata": {},
   "outputs": [
    {
     "name": "stdout",
     "output_type": "stream",
     "text": [
      "The probability of exactly 63 deaths is: 0.05024469\n"
     ]
    }
   ],
   "source": [
    "from scipy.stats import binom\n",
    "\n",
    "# Define the variables from the problem\n",
    "n = 31000  # Total number of individuals\n",
    "k = 63     # Number of successes (deaths)\n",
    "p = 0.00203  # Probability of success for a single individual\n",
    "\n",
    "# Calculate the binomial probability using the binom.pmf function\n",
    "probability = binom.pmf(k, n, p)\n",
    "\n",
    "# Print the result, formatted to at least 4 decimal places\n",
    "print(f\"The probability of exactly 63 deaths is: {probability:.8f}\")\n"
   ]
  },
  {
   "cell_type": "code",
   "execution_count": null,
   "id": "e5ab3c70",
   "metadata": {},
   "outputs": [
    {
     "data": {
      "text/plain": [
       "np.float64(50.0)"
      ]
     },
     "execution_count": 5,
     "metadata": {},
     "output_type": "execute_result"
    }
   ],
   "source": [
    "import scipy\n",
    "binom.ppf(0.05, 31000, 0.00203)"
   ]
  },
  {
   "cell_type": "code",
   "execution_count": 12,
   "id": "7053a1b9",
   "metadata": {},
   "outputs": [
    {
     "name": "stdout",
     "output_type": "stream",
     "text": [
      "0.011094091841433758\n"
     ]
    }
   ],
   "source": [
    "from scipy.stats import fisher_exact\n",
    "import numpy as np\n",
    "\n",
    "table = np.array([[39,63],[30961,30937]])\n",
    "print(fisher_exact(table, alternative='less').pvalue)"
   ]
  },
  {
   "cell_type": "code",
   "execution_count": 9,
   "id": "c5bdb9ef",
   "metadata": {},
   "outputs": [
    {
     "name": "stdout",
     "output_type": "stream",
     "text": [
      "The p-value is: 0.01109409\n"
     ]
    }
   ],
   "source": [
    "from scipy.stats import fisher_exact\n",
    "\n",
    "table = [[39, 63], [30961, 30937]]\n",
    "odds_ratio, p_value = fisher_exact(table, alternative='less')\n",
    "\n",
    "print(f\"The p-value is: {p_value:.8f}\")"
   ]
  },
  {
   "cell_type": "markdown",
   "id": "adfb15cc",
   "metadata": {},
   "source": [
    "# Lecture 2"
   ]
  },
  {
   "cell_type": "code",
   "execution_count": 16,
   "id": "b429ee5d",
   "metadata": {},
   "outputs": [
    {
     "name": "stdout",
     "output_type": "stream",
     "text": [
      "Valor de Z es : -3.0267929604748476\n",
      "p_value is: 0.0012358159238705215\n"
     ]
    }
   ],
   "source": [
    "from scipy.stats import norm\n",
    "from math import sqrt\n",
    "\n",
    "X_bar = 39/31000\n",
    "pi = 63/31000\n",
    "std = sqrt(pi*(1-pi))\n",
    "n = 31000\n",
    "\n",
    "z = (X_bar - pi) /(std/sqrt(n))\n",
    "print(f'Valor de Z es : {z}')\n",
    "\n",
    "p_value = norm.cdf(z)\n",
    "\n",
    "print(f'p_value is: {p_value}')\n"
   ]
  },
  {
   "cell_type": "code",
   "execution_count": null,
   "id": "d7f155e0",
   "metadata": {},
   "outputs": [
    {
     "name": "stdout",
     "output_type": "stream",
     "text": [
      "p_value is: 0.005561\n",
      "0.005560692749284672\n"
     ]
    }
   ],
   "source": [
    "import numpy as np\n",
    "from scipy.stats import t\n",
    "\n",
    "\n",
    "drug_sleep = np.array([6.1, 7.0, 8.2, 7.6, 6.5, 7.8, 6.9, 6.7, 7.4, 5.8])\n",
    "placebo_sleep = np.array([5.2, 7.9, 3.9, 4.7, 5.3, 4.8, 4.2, 6.1, 3.8, 6.3])\n",
    "\n",
    "X_values = drug_sleep-placebo_sleep\n",
    "n = len(X_values)\n",
    "\n",
    "var = np.var(X_values)\n",
    "unbiased_var = var*n/(n-1)\n",
    "unbiased_stf = sqrt(unbiased_var)\n",
    "\n",
    "X_bar = np.mean(X_values)\n",
    "\n",
    "t_value = X_bar/(unbiased_stf/sqrt(n))\n",
    "\n",
    "p_value = 1-t.cdf(t_value, n-1) # n-1 grados de libertad\n",
    "\n",
    "print(f'p_value is: {p_value:6f}')\n"
   ]
  },
  {
   "cell_type": "code",
   "execution_count": 43,
   "id": "5596b287",
   "metadata": {},
   "outputs": [
    {
     "name": "stdout",
     "output_type": "stream",
     "text": [
      "pi_0 MLE en H0 = 0.0016\n",
      "pi_treatmant MLE en HA para treatment = 0.0013\n",
      "pi_control MLE en HA para control = 0.0020\n",
      "Valor para test statistic = 5.7097\n"
     ]
    }
   ],
   "source": [
    "from scipy.stats import binom\n",
    "from math import log\n",
    "\n",
    "n_death_treatment = 39\n",
    "n_death_control = 63\n",
    "n_death_total = n_death_treatment + n_death_control\n",
    "\n",
    "n_exp_treatment = 31000\n",
    "n_exp_control = 31000\n",
    "n_exp_total = 62000\n",
    "\n",
    "pi_treatment = n_death_treatment/n_exp_treatment\n",
    "pi_control = n_death_control/n_exp_control\n",
    "pi_total = n_death_total / n_exp_total\n",
    "\n",
    "\n",
    "print(f'pi_0 MLE en H0 = {pi_total:.4f}')\n",
    "\n",
    "print(f'pi_treatmant MLE en HA para treatment = {pi_treatment:.4f}')\n",
    "print(f'pi_control MLE en HA para control = {pi_control:.4f}')\n",
    "\n",
    "\n",
    "## Value for test_statistct A\n",
    "\n",
    "numerador = binom.pmf(n_death_treatment, n_exp_treatment, pi_total) * binom.pmf(n_death_control, n_exp_control, pi_total)\n",
    "denominador = binom.pmf(n_death_treatment, n_exp_treatment, pi_treatment) * binom.pmf(n_death_control, n_exp_control, pi_control)\n",
    "\n",
    "test_statistic_A = -2*log(numerador/denominador)\n",
    "\n",
    "print(f'Valor para test statistic = {test_statistic_A:.4f}')"
   ]
  },
  {
   "cell_type": "code",
   "execution_count": 45,
   "id": "b7730a75",
   "metadata": {},
   "outputs": [
    {
     "name": "stdout",
     "output_type": "stream",
     "text": [
      "p value = 0.0169\n"
     ]
    }
   ],
   "source": [
    "## Find p-value\n",
    "from scipy.stats import chi2\n",
    "n_degrees = 1\n",
    "\n",
    "p_value = 1-chi2.cdf(test_statistic_A, n_degrees)\n",
    "\n",
    "print(f'p value = {p_value:.4f}')"
   ]
  },
  {
   "cell_type": "code",
   "execution_count": null,
   "id": "e373cce8",
   "metadata": {},
   "outputs": [],
   "source": []
  }
 ],
 "metadata": {
  "kernelspec": {
   "display_name": "micromasters_ml_1",
   "language": "python",
   "name": "python3"
  },
  "language_info": {
   "codemirror_mode": {
    "name": "ipython",
    "version": 3
   },
   "file_extension": ".py",
   "mimetype": "text/x-python",
   "name": "python",
   "nbconvert_exporter": "python",
   "pygments_lexer": "ipython3",
   "version": "3.11.11"
  }
 },
 "nbformat": 4,
 "nbformat_minor": 5
}
