{
 "cells": [
  {
   "cell_type": "markdown",
   "id": "61a88dc7",
   "metadata": {},
   "source": [
    "# Criminal Networks"
   ]
  },
  {
   "cell_type": "markdown",
   "id": "5f1d46c1",
   "metadata": {},
   "source": [
    "# Lecture 1"
   ]
  },
  {
   "cell_type": "markdown",
   "id": "edf65d19",
   "metadata": {},
   "source": [
    "## Problem 6"
   ]
  },
  {
   "cell_type": "code",
   "execution_count": 3,
   "id": "0aff032e",
   "metadata": {},
   "outputs": [],
   "source": [
    "import numpy as np\n",
    "A = np.array([[0, 1, 0, 1, 0, 1, 0, 0, 0, 0],\n",
    "\t[1, 0, 1, 1, 1, 0, 0, 0, 0, 0],\n",
    "\t[0, 1, 0, 0, 0, 0, 0, 0, 0, 0],\n",
    "\t[1, 1, 0, 0, 0, 1, 0, 1, 1, 0],\n",
    "\t[0, 1, 0, 0, 0, 0, 0, 0, 1, 1],\n",
    "\t[1, 0, 0, 1, 0, 0, 0, 0, 0, 0],\n",
    "\t[0, 0, 0, 0, 0, 0, 0, 0, 0, 1],\n",
    "\t[0, 0, 0, 1, 0, 0, 0, 0, 0, 0],\n",
    "\t[0, 0, 0, 1, 1, 0, 0, 0, 0, 1],\n",
    "\t[0, 0, 0, 0, 1, 0, 1, 0, 1, 0]])"
   ]
  },
  {
   "cell_type": "code",
   "execution_count": 13,
   "id": "a866953a",
   "metadata": {},
   "outputs": [
    {
     "data": {
      "text/plain": [
       "array([[19, 14,  7, 21, 12, 11,  2,  7, 11,  5],\n",
       "       [14, 28,  2, 14,  6, 17,  2, 10, 19, 10],\n",
       "       [ 7,  2,  4, 10,  7,  2,  1,  1,  2,  2],\n",
       "       [21, 14, 10, 37, 20, 11,  2,  4,  8, 11],\n",
       "       [12,  6,  7, 20, 18,  4,  5,  2,  9,  9],\n",
       "       [11, 17,  2, 11,  4, 12,  1,  7, 11,  4],\n",
       "       [ 2,  2,  1,  2,  5,  1,  3,  1,  5,  2],\n",
       "       [ 7, 10,  1,  4,  2,  7,  1,  5,  8,  2],\n",
       "       [11, 19,  2,  8,  9, 11,  5,  8, 19,  9],\n",
       "       [ 5, 10,  2, 11,  9,  4,  2,  2,  9, 13]])"
      ]
     },
     "execution_count": 13,
     "metadata": {},
     "output_type": "execute_result"
    }
   ],
   "source": [
    "A@A@A@A"
   ]
  },
  {
   "cell_type": "code",
   "execution_count": 8,
   "id": "565ddfa0",
   "metadata": {},
   "outputs": [
    {
     "data": {
      "text/plain": [
       "array([[ True,  True,  True,  True,  True,  True,  True,  True,  True,\n",
       "         True],\n",
       "       [ True,  True,  True,  True,  True,  True,  True,  True,  True,\n",
       "         True],\n",
       "       [ True,  True,  True,  True,  True,  True,  True,  True,  True,\n",
       "         True],\n",
       "       [ True,  True,  True,  True,  True,  True,  True,  True,  True,\n",
       "         True],\n",
       "       [ True,  True,  True,  True,  True,  True,  True,  True,  True,\n",
       "         True],\n",
       "       [ True,  True,  True,  True,  True,  True,  True,  True,  True,\n",
       "         True],\n",
       "       [ True,  True,  True,  True,  True,  True,  True,  True,  True,\n",
       "         True],\n",
       "       [ True,  True,  True,  True,  True,  True,  True,  True,  True,\n",
       "         True],\n",
       "       [ True,  True,  True,  True,  True,  True,  True,  True,  True,\n",
       "         True],\n",
       "       [ True,  True,  True,  True,  True,  True,  True,  True,  True,\n",
       "         True]])"
      ]
     },
     "execution_count": 8,
     "metadata": {},
     "output_type": "execute_result"
    }
   ],
   "source": [
    "A == A.T"
   ]
  },
  {
   "cell_type": "code",
   "execution_count": 10,
   "id": "91d8d0ce",
   "metadata": {},
   "outputs": [
    {
     "data": {
      "text/plain": [
       "array([[46, 59, 14, 62, 30, 40,  5, 21, 38, 25],\n",
       "       [59, 36, 28, 88, 57, 28, 10, 14, 30, 27],\n",
       "       [14, 28,  2, 14,  6, 17,  2, 10, 19, 10],\n",
       "       [62, 88, 14, 58, 33, 58, 11, 37, 68, 30],\n",
       "       [30, 57,  6, 33, 24, 32,  9, 20, 47, 32],\n",
       "       [40, 28, 17, 58, 32, 22,  4, 11, 19, 16],\n",
       "       [ 5, 10,  2, 11,  9,  4,  2,  2,  9, 13],\n",
       "       [21, 14, 10, 37, 20, 11,  2,  4,  8, 11],\n",
       "       [38, 30, 19, 68, 47, 19,  9,  8, 26, 33],\n",
       "       [25, 27, 10, 30, 32, 16, 13, 11, 33, 20]])"
      ]
     },
     "execution_count": 10,
     "metadata": {},
     "output_type": "execute_result"
    }
   ],
   "source": [
    "A@A@A@A@A"
   ]
  },
  {
   "cell_type": "markdown",
   "id": "941a2c1a",
   "metadata": {},
   "source": [
    "## Problem 7"
   ]
  },
  {
   "cell_type": "code",
   "execution_count": 15,
   "id": "3e4b4867",
   "metadata": {},
   "outputs": [
    {
     "name": "stdout",
     "output_type": "stream",
     "text": [
      "Datos cargados exitosamente:\n",
      "[[ 0  3]\n",
      " [ 0 10]\n",
      " [ 0 12]\n",
      " ...\n",
      " [99 77]\n",
      " [99 81]\n",
      " [99 85]]\n"
     ]
    }
   ],
   "source": [
    "import numpy as np\n",
    "\n",
    "# 'release_directed_graph.txt' tiene tus datos\n",
    "try:\n",
    "    # np.loadtxt es ideal para archivos simples y limpios\n",
    "    graph_data = np.loadtxt('release_directed_graph.txt', dtype=int)\n",
    "    \n",
    "    # graph_data ahora es un arreglo de NumPy que representa las aristas\n",
    "    print(\"Datos cargados exitosamente:\")\n",
    "    print(graph_data)\n",
    "    \n",
    "except FileNotFoundError:\n",
    "    print(\"Error: Asegúrate de que el archivo 'release_directed_graph.txt' exista.\")\n",
    "except Exception as e:\n",
    "    print(f\"Ocurrió un error al cargar el archivo: {e}\")"
   ]
  },
  {
   "cell_type": "code",
   "execution_count": 18,
   "id": "3ffd2d8c",
   "metadata": {},
   "outputs": [
    {
     "data": {
      "text/plain": [
       "100"
      ]
     },
     "execution_count": 18,
     "metadata": {},
     "output_type": "execute_result"
    }
   ],
   "source": [
    "# Nodes\n",
    "len(np.unique(graph_data))"
   ]
  },
  {
   "cell_type": "code",
   "execution_count": null,
   "id": "a4d79622",
   "metadata": {},
   "outputs": [
    {
     "data": {
      "text/plain": [
       "1030"
      ]
     },
     "execution_count": 21,
     "metadata": {},
     "output_type": "execute_result"
    }
   ],
   "source": [
    "# Aristas\n",
    "len(graph_data)"
   ]
  },
  {
   "cell_type": "code",
   "execution_count": 32,
   "id": "12804eae",
   "metadata": {},
   "outputs": [
    {
     "name": "stdout",
     "output_type": "stream",
     "text": [
      "[19 19]\n",
      "Tiene auto ciclo\n"
     ]
    }
   ],
   "source": [
    "# Self Cycles?\n",
    "for arista in graph_data:\n",
    "    if arista[0] == arista[1]:\n",
    "        print(arista)\n",
    "        print('Tiene auto ciclo')\n",
    "        break\n"
   ]
  },
  {
   "cell_type": "code",
   "execution_count": null,
   "id": "701fc10b",
   "metadata": {},
   "outputs": [],
   "source": [
    "# ¿Tiene loops que no sea self loop? Problemos un llop tal que A -> B y B -> A"
   ]
  },
  {
   "cell_type": "code",
   "execution_count": 31,
   "id": "fb1bd146",
   "metadata": {},
   "outputs": [
    {
     "data": {
      "text/plain": [
       "array([25,  0])"
      ]
     },
     "execution_count": 31,
     "metadata": {},
     "output_type": "execute_result"
    }
   ],
   "source": [
    "graph_data[3][::-1]"
   ]
  },
  {
   "cell_type": "code",
   "execution_count": 39,
   "id": "15562972",
   "metadata": {},
   "outputs": [
    {
     "name": "stdout",
     "output_type": "stream",
     "text": [
      "graph i: [ 0 84]\n",
      "graph j: [84  0]\n",
      "Tiene Cicly Simple\n"
     ]
    }
   ],
   "source": [
    "romper = False\n",
    "for i in range(len(graph_data)):\n",
    "    for j in range(len(graph_data)):\n",
    "        if i != j:\n",
    "            if graph_data[i][0] == graph_data[j][1] and  graph_data[i][1] == graph_data[j][0]:\n",
    "                print(f'graph i: {graph_data[i]}')\n",
    "                print(f'graph j: {graph_data[j]}')\n",
    "                print('Tiene Cicly Simple')\n",
    "                romper = True\n",
    "                break\n",
    "    if romper == True:\n",
    "        break\n"
   ]
  },
  {
   "cell_type": "code",
   "execution_count": 51,
   "id": "f0703066",
   "metadata": {},
   "outputs": [
    {
     "name": "stdout",
     "output_type": "stream",
     "text": [
      "P value = 10.3\n"
     ]
    }
   ],
   "source": [
    "# ¿Cuanto vale P? \n",
    "\n",
    "promedios = []\n",
    "for nodo in range(len(np.unique(graph_data))):\n",
    "    #print(f'Leyendo Nodo: {nodo}')\n",
    "    promedio = 0\n",
    "    for arista in graph_data:\n",
    "        if nodo == arista[0]:\n",
    "            promedio+=1\n",
    "    promedios.append(promedio)\n",
    "p = np.average(promedios)\n",
    "\n",
    "print(f'P value = {p}')"
   ]
  },
  {
   "cell_type": "code",
   "execution_count": 52,
   "id": "98761f4a",
   "metadata": {},
   "outputs": [
    {
     "name": "stdout",
     "output_type": "stream",
     "text": [
      "Número de aristas (e): 1030\n",
      "Número de nodos (n): 100\n",
      "Estimación de p (e/n^2) = 1030 / (100^2) = 0.103\n",
      "p con 5 cifras significativas: 0.10300\n"
     ]
    }
   ],
   "source": [
    "# 1. Calcular el número de aristas (e)\n",
    "num_edges = len(graph_data)\n",
    "\n",
    "# 2. Calcular el número de nodos (n)\n",
    "num_nodes = len(np.unique(graph_data.flatten()))\n",
    "\n",
    "# 3. Calcular la estimación de p\n",
    "p_mle = num_edges / (num_nodes ** 2)\n",
    "\n",
    "print(f\"Número de aristas (e): {num_edges}\")\n",
    "print(f\"Número de nodos (n): {num_nodes}\")\n",
    "print(f\"Estimación de p (e/n^2) = {num_edges} / ({num_nodes}^2) = {p_mle}\")\n",
    "\n",
    "# Para obtener el resultado con al menos 5 cifras significativas\n",
    "print(f\"p con 5 cifras significativas: {p_mle:.5f}\")"
   ]
  },
  {
   "cell_type": "code",
   "execution_count": 54,
   "id": "63bb89fc",
   "metadata": {},
   "outputs": [
    {
     "name": "stdout",
     "output_type": "stream",
     "text": [
      "Total de aristas posibles (N_total): 10000\n",
      "Media Muestral (S_n): 0.103\n",
      "Media Poblacional (mu_n): 0.1\n",
      "Desviación estándar de la media muestral (sigma_n): 0.00300\n",
      "----------------------------------------\n",
      "Estadístico Z calculado: 1.000\n",
      "----------------------------------------\n",
      "P-valor (5 cifras significativas): 0.31731\n"
     ]
    }
   ],
   "source": [
    "from scipy.stats import norm\n",
    "p_null = 0.1\n",
    "N_total = num_nodes ** 2\n",
    "print(f\"Total de aristas posibles (N_total): {N_total}\")\n",
    "\n",
    "# 1.2. Media Muestral (S_n = p_mle)\n",
    "S_n = num_edges / N_total\n",
    "print(f\"Media Muestral (S_n): {S_n}\")\n",
    "\n",
    "# 1.3. Media Poblacional bajo H0 (mu_n)\n",
    "mu_n = p_null\n",
    "print(f\"Media Poblacional (mu_n): {mu_n}\")\n",
    "\n",
    "# 1.4. Desviación Estándar de la Media Muestral (sigma_n)\n",
    "# Fórmula: sigma_n = sqrt( p_0 * (1 - p_0) / N_total )\n",
    "sigma_squared = p_null * (1 - p_null)\n",
    "sigma_n = np.sqrt(sigma_squared / N_total)\n",
    "print(f\"Desviación estándar de la media muestral (sigma_n): {sigma_n:.5f}\")\n",
    "\n",
    "\n",
    "# ----------------------------------------\n",
    "# --- 2. CÁLCULO DEL ESTADÍSTICO DE PRUEBA Z ---\n",
    "\n",
    "# Fórmula: Z = | S_n - mu_n | / sigma_n\n",
    "Z_statistic = np.abs(S_n - mu_n) / sigma_n\n",
    "print(\"-\" * 40)\n",
    "print(f\"Estadístico Z calculado: {Z_statistic:.3f}\")\n",
    "\n",
    "\n",
    "# ----------------------------------------\n",
    "# --- 3. CÁLCULO DEL P-VALOR (PRUEBA BILATERAL) ---\n",
    "\n",
    "# P(Z > Z_statistic) se calcula con la función de supervivencia (sf) de la normal.\n",
    "# El p-valor bilateral es 2 * P(Z > Z_statistic)\n",
    "p_value = 2 * norm.sf(Z_statistic)\n",
    "\n",
    "print(\"-\" * 40)\n",
    "print(f\"P-valor (5 cifras significativas): {p_value:.5f}\")"
   ]
  },
  {
   "cell_type": "markdown",
   "id": "f34c4a47",
   "metadata": {},
   "source": []
  },
  {
   "cell_type": "markdown",
   "id": "aad13b2c",
   "metadata": {},
   "source": []
  }
 ],
 "metadata": {
  "kernelspec": {
   "display_name": "micromasters_ml_1",
   "language": "python",
   "name": "python3"
  },
  "language_info": {
   "codemirror_mode": {
    "name": "ipython",
    "version": 3
   },
   "file_extension": ".py",
   "mimetype": "text/x-python",
   "name": "python",
   "nbconvert_exporter": "python",
   "pygments_lexer": "ipython3",
   "version": "3.11.11"
  }
 },
 "nbformat": 4,
 "nbformat_minor": 5
}
