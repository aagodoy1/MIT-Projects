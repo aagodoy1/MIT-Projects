{
 "cells": [
  {
   "cell_type": "markdown",
   "id": "b7c307cc",
   "metadata": {},
   "source": [
    "# Lecture 1"
   ]
  },
  {
   "cell_type": "code",
   "execution_count": 9,
   "id": "110a2217",
   "metadata": {},
   "outputs": [
    {
     "name": "stdout",
     "output_type": "stream",
     "text": [
      "Stacked vectors:\n",
      "[[8 4 7]\n",
      " [2 8 1]\n",
      " [3 1 1]\n",
      " [9 7 4]]\n",
      "\n",
      "Mean of corresponding elements:\n",
      "[5.5  5.   3.25]\n",
      "Matriz de covarianza S =\n",
      " [[9.25   1.     6.375 ]\n",
      " [1.     7.5    0.    ]\n",
      " [6.375  0.     6.1875]]\n",
      "S11 = 9.25\n",
      "S21 = 1.0\n",
      "S32 = 0.0\n"
     ]
    }
   ],
   "source": [
    "import numpy as np\n",
    "\n",
    "v1 = np.array([8,4,7])\n",
    "v2 = np.array([2,8,1])\n",
    "v3 = np.array([3,1,1])\n",
    "v4 = np.array([9,7,4]) \n",
    "\n",
    "stacked_vectors = np.vstack((v1, v2, v3, v4))\n",
    "X               = np.column_stack([v1, v2, v3, v4])\n",
    "n               = len(stacked_vectors)\n",
    "\n",
    "# Calculate the mean along axis 0 (down the columns)\n",
    "mean_vector = np.mean(stacked_vectors, axis=0)\n",
    "\n",
    "#covariance_matrix = np.cov(stacked_vectors)\n",
    "\n",
    "n = X.shape[1]\n",
    "S = (X @ X.T) / n - x_bar @ x_bar.T\n",
    "\n",
    "print(\"Stacked vectors:\")\n",
    "print(stacked_vectors)\n",
    "print(\"\\nMean of corresponding elements:\")\n",
    "print(mean_vector)\n",
    "\n",
    "#print(\"Sample Covariance Matrix:\\n\", covariance_matrix)\n",
    "print(\"Matriz de covarianza S =\\n\", S)\n",
    "print(\"S11 =\", S[0,0])\n",
    "print(\"S21 =\", S[1,0])\n",
    "print(\"S32 =\", S[2,1])\n"
   ]
  },
  {
   "cell_type": "code",
   "execution_count": 6,
   "id": "66653c2d",
   "metadata": {},
   "outputs": [
    {
     "name": "stdout",
     "output_type": "stream",
     "text": [
      "The empirical mean vector (x_bar) is:\n",
      "[[5.5 ]\n",
      " [5.  ]\n",
      " [3.25]]\n",
      "\n",
      "The empirical covariance matrix (S) is:\n",
      "[[9.25   1.     6.375 ]\n",
      " [1.     7.5    0.    ]\n",
      " [6.375  0.     6.1875]]\n",
      "\n",
      "Requested entries:\n",
      "S_11 = 9.250\n",
      "S_21 = 1.000\n",
      "S_32 = 0.000\n"
     ]
    }
   ],
   "source": [
    "import numpy as np\n",
    "\n",
    "# Define the data vectors as a matrix X, where each column is a data point\n",
    "# The problem gives a d x n matrix X where d=3 and n=4\n",
    "X = np.array([\n",
    "    [8, 2, 3, 9],\n",
    "    [4, 8, 1, 7],\n",
    "    [7, 1, 1, 4]\n",
    "])\n",
    "\n",
    "# Get dimensions of the data matrix\n",
    "d, n = X.shape\n",
    "\n",
    "# 1. Calculate the empirical mean vector (x_bar)\n",
    "# The sum of columns divided by the number of columns\n",
    "x_bar = np.mean(X, axis=1, keepdims=True)\n",
    "\n",
    "# 2. Subtract the mean from each column of X to get the centered matrix Z\n",
    "Z = X - x_bar\n",
    "\n",
    "# 3. Calculate the empirical covariance matrix S\n",
    "# S = (1/n) * Z * Z.T\n",
    "S = (1/n) * np.dot(Z, Z.T)\n",
    "\n",
    "# Print the final results\n",
    "print(\"The empirical mean vector (x_bar) is:\")\n",
    "print(x_bar)\n",
    "print(\"\\nThe empirical covariance matrix (S) is:\")\n",
    "print(S)\n",
    "\n",
    "# Print the specific entries requested in the problem, rounded to 3 decimal places\n",
    "print(\"\\nRequested entries:\")\n",
    "print(f\"S_11 = {S[0, 0]:.3f}\")  # S_11 is S[0,0] in Python (0-indexed)\n",
    "print(f\"S_21 = {S[1, 0]:.3f}\")  # S_21 is S[1,0]\n",
    "print(f\"S_32 = {S[2, 1]:.3f}\")  # S_32 is S[2,1]"
   ]
  },
  {
   "cell_type": "code",
   "execution_count": 5,
   "id": "9743a434",
   "metadata": {},
   "outputs": [],
   "source": [
    "I = np.array([[1,0,0],[0,1,0], [0,0,1] ])\n",
    "one = np.array([[1,1,1],[1,1,1], [1,1,1] ])\n",
    "n = 3\n",
    "x = np.array([2, -1, -2])"
   ]
  },
  {
   "cell_type": "code",
   "execution_count": 25,
   "id": "65059ac4",
   "metadata": {},
   "outputs": [
    {
     "data": {
      "text/plain": [
       "array([[ 0.66666667, -0.33333333, -0.33333333],\n",
       "       [-0.33333333,  0.66666667, -0.33333333],\n",
       "       [-0.33333333, -0.33333333,  0.66666667]])"
      ]
     },
     "execution_count": 25,
     "metadata": {},
     "output_type": "execute_result"
    }
   ],
   "source": [
    "H = I-one/n\n",
    "H"
   ]
  },
  {
   "cell_type": "code",
   "execution_count": 26,
   "id": "c90563ea",
   "metadata": {},
   "outputs": [
    {
     "data": {
      "text/plain": [
       "array([ 2.33333333, -0.66666667, -1.66666667])"
      ]
     },
     "execution_count": 26,
     "metadata": {},
     "output_type": "execute_result"
    }
   ],
   "source": [
    "H @ x"
   ]
  },
  {
   "cell_type": "code",
   "execution_count": null,
   "id": "294c07fb",
   "metadata": {},
   "outputs": [
    {
     "data": {
      "text/plain": [
       "array([ 2.33333333, -0.66666667, -1.66666667])"
      ]
     },
     "execution_count": 32,
     "metadata": {},
     "output_type": "execute_result"
    }
   ],
   "source": [
    "H @ H @ x"
   ]
  },
  {
   "cell_type": "code",
   "execution_count": null,
   "id": "74ec3d90",
   "metadata": {},
   "outputs": [
    {
     "name": "stdout",
     "output_type": "stream",
     "text": [
      "El vector v1 es: [2 3]\n",
      "El vector unitario u1 es: [1 0]\n",
      "La proyección de v1 en u1 es: [2 0]\n"
     ]
    }
   ],
   "source": [
    "import numpy as np\n",
    "\n",
    "def proyection(vector_proyectado, vector_receptor_de_proyeccion):\n",
    "    v1 = vector_proyectado\n",
    "    u1 = vector_receptor_de_proyeccion\n",
    "    if not np.isclose(np.linalg.norm(u1), 1.0):\n",
    "        print(\"El vector u1 no es unitario. Normalizándolo...\")\n",
    "        u1 = u1 / np.linalg.norm(u1)\n",
    "\n",
    "    # 2. Calcular la proyeccion\n",
    "    # La fórmula es: (v1 . u1) * u1\n",
    "    # np.dot(v1, u1) calcula el producto punto\n",
    "    proyeccion_v1_en_u1 = np.dot(v1, u1) * u1\n",
    "    return proyeccion_v1_en_u1\n",
    "\n",
    "# CASO EJEMPLO\n",
    "# Definir los vectores\n",
    "v1 = np.array([2, 3])\n",
    "u1 = np.array([1, 0]) # Este es un vector unitario de ejemplo\n",
    "\n",
    "\n",
    "# Imprimir el resultado\n",
    "print(f\"El vector v1 es: {v1}\")\n",
    "print(f\"El vector unitario u1 es: {u1}\")\n",
    "print(f\"La proyección de v1 en u1 es: {proyection(v1,u1)}\")"
   ]
  },
  {
   "cell_type": "code",
   "execution_count": 3,
   "id": "764e0114",
   "metadata": {},
   "outputs": [
    {
     "name": "stdout",
     "output_type": "stream",
     "text": [
      "El vector u1 no es unitario. Normalizándolo...\n",
      "[1. 2.]\n",
      "El vector u1 no es unitario. Normalizándolo...\n",
      "[2.2 4.4]\n",
      "El vector u1 no es unitario. Normalizándolo...\n",
      "[-0.2 -0.4]\n"
     ]
    }
   ],
   "source": [
    "x1 = np.array([1,2]) \n",
    "x2 = np.array([3,4])\n",
    "x3 = np.array([-1,0])\n",
    "\n",
    "u = np.array([1,2])\n",
    "\n",
    "print(proyection(x1, u))\n",
    "print(proyection(x2, u))\n",
    "print(proyection(x3, u))\n"
   ]
  },
  {
   "cell_type": "markdown",
   "id": "37e45505",
   "metadata": {},
   "source": [
    "## Parte 7"
   ]
  },
  {
   "cell_type": "code",
   "execution_count": null,
   "id": "b7d44293",
   "metadata": {},
   "outputs": [
    {
     "name": "stdout",
     "output_type": "stream",
     "text": [
      "2.23606797749979\n",
      "4.919349550499537\n",
      "-0.4472135954999579\n"
     ]
    }
   ],
   "source": [
    "from math import sqrt\n",
    "\n",
    "u = u/sqrt(5)\n",
    "print(np.dot(u,x1))\n",
    "print(np.dot(u,x2))\n",
    "print(np.dot(u,x3))"
   ]
  },
  {
   "cell_type": "code",
   "execution_count": 21,
   "id": "9093b34c",
   "metadata": {},
   "outputs": [
    {
     "name": "stdout",
     "output_type": "stream",
     "text": [
      "4.8\n"
     ]
    }
   ],
   "source": [
    "print(np.var([np.dot(u,x1), np.dot(u,x2), np.dot(u,x3)]))\n"
   ]
  },
  {
   "cell_type": "code",
   "execution_count": 39,
   "id": "f2ba664a",
   "metadata": {},
   "outputs": [
    {
     "name": "stdout",
     "output_type": "stream",
     "text": [
      "resultado : 4.8\n"
     ]
    }
   ],
   "source": [
    "I = np.eye(3)\n",
    "one = np.ones((3,1))\n",
    "X = np.vstack([x1, x2, x3])\n",
    "S = 1/3*X.T @ (I-1/3* one @ one.T) @ X\n",
    "S\n",
    "result = u.T @ S @ u\n",
    "print(f'resultado : {result}')"
   ]
  },
  {
   "cell_type": "markdown",
   "id": "a4916f75",
   "metadata": {},
   "source": [
    "## Parte 9"
   ]
  },
  {
   "cell_type": "code",
   "execution_count": 42,
   "id": "d0d96cb0",
   "metadata": {},
   "outputs": [
    {
     "data": {
      "text/plain": [
       "array([[0., 0.],\n",
       "       [0., 1.]])"
      ]
     },
     "execution_count": 42,
     "metadata": {},
     "output_type": "execute_result"
    }
   ],
   "source": [
    "X = np.array([[0,1], [0,-1]])\n",
    "n = 2\n",
    "\n",
    "# SAMPLE COVARIANCE MATRIX\n",
    "\n",
    "S = 1/n * X.T @ X\n",
    "S "
   ]
  },
  {
   "cell_type": "markdown",
   "id": "625ac02c",
   "metadata": {},
   "source": [
    "## Parte 12"
   ]
  },
  {
   "cell_type": "code",
   "execution_count": 51,
   "id": "83572c3c",
   "metadata": {},
   "outputs": [
    {
     "name": "stdout",
     "output_type": "stream",
     "text": [
      "SAMPLE COVARIANCE MATRIX\n"
     ]
    },
    {
     "data": {
      "text/plain": [
       "array([[0.5, 0.5],\n",
       "       [0.5, 2.5]])"
      ]
     },
     "execution_count": 51,
     "metadata": {},
     "output_type": "execute_result"
    }
   ],
   "source": [
    "v1 = np.array([0,2])\n",
    "v2 = np.array([0,-2])\n",
    "v3 = np.array([1,1])\n",
    "v4 = np.array([-1,-1])\n",
    "X = np.vstack([v1,v2,v3,v4])\n",
    "n = X.shape[0]\n",
    "\n",
    "\n",
    "S = 1/n * X.T @ X\n",
    "print('SAMPLE COVARIANCE MATRIX')\n",
    "S \n"
   ]
  },
  {
   "cell_type": "code",
   "execution_count": 52,
   "id": "70665d4d",
   "metadata": {},
   "outputs": [
    {
     "name": "stdout",
     "output_type": "stream",
     "text": [
      "Valores propios: [0.38196601 2.61803399]\n",
      "Vectores propios:\n",
      " [[-0.97324899 -0.22975292]\n",
      " [ 0.22975292 -0.97324899]]\n"
     ]
    }
   ],
   "source": [
    "eigvals, eigvecs = np.linalg.eig(S)\n",
    "\n",
    "print(\"Valores propios:\", eigvals)\n",
    "print(\"Vectores propios:\\n\", eigvecs)"
   ]
  },
  {
   "cell_type": "code",
   "execution_count": null,
   "id": "93131e89",
   "metadata": {},
   "outputs": [
    {
     "name": "stdout",
     "output_type": "stream",
     "text": [
      "--- MATRIZ DE COVARIANZA S ---\n",
      "[[0.5 0.5]\n",
      " [0.5 2.5]]\n",
      "\n",
      "--- VALORES PROPIOS (Eigenvalues) ---\n",
      "Lambda 1 (Mayor Varianza): 2.6180\n",
      "Lambda 2 (Menor Varianza): 0.3820\n",
      "\n",
      "--- VECTORES PROPIOS UNITARIOS (Eigenvectors) ---\n",
      "Vector Propio 1 (PC1 - Dirección de Máxima Varianza):\n",
      "[-0.22975292 -0.97324899]\n",
      "\n",
      "Vector Propio 2 (PC2 - Dirección de Mínima Varianza):\n",
      "[-0.97324899  0.22975292]\n"
     ]
    }
   ],
   "source": [
    "eigenvalues, eigenvectors = np.linalg.eig(S)\n",
    "\n",
    "# PCA requiere que los valores propios estén ordenados de mayor a menor.\n",
    "# np.argsort devuelve los índices que ordenarían el array.\n",
    "# [::-1] invierte el orden para que sea de mayor a menor.\n",
    "idx = eigenvalues.argsort()[::-1]\n",
    "\n",
    "# Ordenar valores propios y vectores propios\n",
    "lambda_sorted = eigenvalues[idx]\n",
    "v_sorted = eigenvectors[:, idx]\n",
    "\n",
    "print(\"\\n--- VALORES PROPIOS (Eigenvalues) ---\")\n",
    "print(f\"Lambda 1 (Mayor Varianza): {lambda_sorted[0]:.4f}\")\n",
    "print(f\"Lambda 2 (Menor Varianza): {lambda_sorted[1]:.4f}\")\n",
    "# Nota: Los valores propios exactos son (6 + 2*sqrt(5))/3 y (6 - 2*sqrt(5))/3.\n",
    "\n",
    "print(\"\\n--- VECTORES PROPIOS UNITARIOS (Eigenvectors) ---\")\n",
    "print(\"Vector Propio 1 (PC1 - Dirección de Máxima Varianza):\")\n",
    "print(v_sorted[:, 0])\n",
    "print(\"\\nVector Propio 2 (PC2 - Dirección de Mínima Varianza):\")\n",
    "print(v_sorted[:, 1])"
   ]
  },
  {
   "cell_type": "markdown",
   "id": "8a4a53ea",
   "metadata": {},
   "source": [
    "## Part 16"
   ]
  },
  {
   "cell_type": "code",
   "execution_count": null,
   "id": "381f38d9",
   "metadata": {},
   "outputs": [
    {
     "data": {
      "text/plain": [
       "array([[ 2,  0,  0],\n",
       "       [ 0,  2, -2],\n",
       "       [ 0, -2,  2]])"
      ]
     },
     "execution_count": 57,
     "metadata": {},
     "output_type": "execute_result"
    }
   ],
   "source": [
    "x1 = np.array([1,1])\n",
    "x2 = np.array([1,-1])\n",
    "x3 = np.array([-1,1])\n",
    "\n",
    "X = np.vstack([x1,x2,x3])\n",
    "n = X.shape[0]\n",
    "\n",
    "B = X @ X.T\n",
    "B "
   ]
  },
  {
   "cell_type": "code",
   "execution_count": 59,
   "id": "d3c05347",
   "metadata": {},
   "outputs": [
    {
     "name": "stdout",
     "output_type": "stream",
     "text": [
      "Valores propios: [4.00000e+00 4.44089e-16 2.00000e+00]\n",
      "Vectores propios:\n",
      " [[ 0.       0.       1.     ]\n",
      " [-0.70711  0.70711  0.     ]\n",
      " [ 0.70711  0.70711  0.     ]]\n"
     ]
    }
   ],
   "source": [
    "np.set_printoptions(precision=5)\n",
    "eigvals, eigvecs = np.linalg.eig(B)\n",
    "\n",
    "print(\"Valores propios:\", eigvals)\n",
    "print(\"Vectores propios:\\n\", eigvecs)"
   ]
  },
  {
   "cell_type": "code",
   "execution_count": 61,
   "id": "079de7e3",
   "metadata": {},
   "outputs": [],
   "source": [
    "vector_prop_1 = np.array([eigvecs[0,0], eigvecs[1,0],eigvecs[2,0]])\n",
    "valor_prop_1 = eigvals[0]"
   ]
  },
  {
   "cell_type": "code",
   "execution_count": 63,
   "id": "cb865c51",
   "metadata": {},
   "outputs": [
    {
     "data": {
      "text/plain": [
       "array([ 0.     , -1.41421,  1.41421])"
      ]
     },
     "execution_count": 63,
     "metadata": {},
     "output_type": "execute_result"
    }
   ],
   "source": [
    "Y_lambda_1 =  vector_prop_1 * sqrt(valor_prop_1)\n",
    "Y_lambda_1"
   ]
  },
  {
   "cell_type": "code",
   "execution_count": null,
   "id": "35c9d872",
   "metadata": {},
   "outputs": [],
   "source": []
  }
 ],
 "metadata": {
  "kernelspec": {
   "display_name": "micromasters_ml_1",
   "language": "python",
   "name": "python3"
  },
  "language_info": {
   "codemirror_mode": {
    "name": "ipython",
    "version": 3
   },
   "file_extension": ".py",
   "mimetype": "text/x-python",
   "name": "python",
   "nbconvert_exporter": "python",
   "pygments_lexer": "ipython3",
   "version": "3.11.11"
  }
 },
 "nbformat": 4,
 "nbformat_minor": 5
}
