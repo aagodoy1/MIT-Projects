{
 "cells": [
  {
   "cell_type": "markdown",
   "id": "b7c307cc",
   "metadata": {},
   "source": [
    "# Lecture 1"
   ]
  },
  {
   "cell_type": "code",
   "execution_count": 9,
   "id": "110a2217",
   "metadata": {},
   "outputs": [
    {
     "name": "stdout",
     "output_type": "stream",
     "text": [
      "Stacked vectors:\n",
      "[[8 4 7]\n",
      " [2 8 1]\n",
      " [3 1 1]\n",
      " [9 7 4]]\n",
      "\n",
      "Mean of corresponding elements:\n",
      "[5.5  5.   3.25]\n",
      "Matriz de covarianza S =\n",
      " [[9.25   1.     6.375 ]\n",
      " [1.     7.5    0.    ]\n",
      " [6.375  0.     6.1875]]\n",
      "S11 = 9.25\n",
      "S21 = 1.0\n",
      "S32 = 0.0\n"
     ]
    }
   ],
   "source": [
    "import numpy as np\n",
    "\n",
    "v1 = np.array([8,4,7])\n",
    "v2 = np.array([2,8,1])\n",
    "v3 = np.array([3,1,1])\n",
    "v4 = np.array([9,7,4]) \n",
    "\n",
    "stacked_vectors = np.vstack((v1, v2, v3, v4))\n",
    "X               = np.column_stack([v1, v2, v3, v4])\n",
    "n               = len(stacked_vectors)\n",
    "\n",
    "# Calculate the mean along axis 0 (down the columns)\n",
    "mean_vector = np.mean(stacked_vectors, axis=0)\n",
    "\n",
    "#covariance_matrix = np.cov(stacked_vectors)\n",
    "\n",
    "n = X.shape[1]\n",
    "S = (X @ X.T) / n - x_bar @ x_bar.T\n",
    "\n",
    "print(\"Stacked vectors:\")\n",
    "print(stacked_vectors)\n",
    "print(\"\\nMean of corresponding elements:\")\n",
    "print(mean_vector)\n",
    "\n",
    "#print(\"Sample Covariance Matrix:\\n\", covariance_matrix)\n",
    "print(\"Matriz de covarianza S =\\n\", S)\n",
    "print(\"S11 =\", S[0,0])\n",
    "print(\"S21 =\", S[1,0])\n",
    "print(\"S32 =\", S[2,1])\n"
   ]
  },
  {
   "cell_type": "code",
   "execution_count": 6,
   "id": "66653c2d",
   "metadata": {},
   "outputs": [
    {
     "name": "stdout",
     "output_type": "stream",
     "text": [
      "The empirical mean vector (x_bar) is:\n",
      "[[5.5 ]\n",
      " [5.  ]\n",
      " [3.25]]\n",
      "\n",
      "The empirical covariance matrix (S) is:\n",
      "[[9.25   1.     6.375 ]\n",
      " [1.     7.5    0.    ]\n",
      " [6.375  0.     6.1875]]\n",
      "\n",
      "Requested entries:\n",
      "S_11 = 9.250\n",
      "S_21 = 1.000\n",
      "S_32 = 0.000\n"
     ]
    }
   ],
   "source": [
    "import numpy as np\n",
    "\n",
    "# Define the data vectors as a matrix X, where each column is a data point\n",
    "# The problem gives a d x n matrix X where d=3 and n=4\n",
    "X = np.array([\n",
    "    [8, 2, 3, 9],\n",
    "    [4, 8, 1, 7],\n",
    "    [7, 1, 1, 4]\n",
    "])\n",
    "\n",
    "# Get dimensions of the data matrix\n",
    "d, n = X.shape\n",
    "\n",
    "# 1. Calculate the empirical mean vector (x_bar)\n",
    "# The sum of columns divided by the number of columns\n",
    "x_bar = np.mean(X, axis=1, keepdims=True)\n",
    "\n",
    "# 2. Subtract the mean from each column of X to get the centered matrix Z\n",
    "Z = X - x_bar\n",
    "\n",
    "# 3. Calculate the empirical covariance matrix S\n",
    "# S = (1/n) * Z * Z.T\n",
    "S = (1/n) * np.dot(Z, Z.T)\n",
    "\n",
    "# Print the final results\n",
    "print(\"The empirical mean vector (x_bar) is:\")\n",
    "print(x_bar)\n",
    "print(\"\\nThe empirical covariance matrix (S) is:\")\n",
    "print(S)\n",
    "\n",
    "# Print the specific entries requested in the problem, rounded to 3 decimal places\n",
    "print(\"\\nRequested entries:\")\n",
    "print(f\"S_11 = {S[0, 0]:.3f}\")  # S_11 is S[0,0] in Python (0-indexed)\n",
    "print(f\"S_21 = {S[1, 0]:.3f}\")  # S_21 is S[1,0]\n",
    "print(f\"S_32 = {S[2, 1]:.3f}\")  # S_32 is S[2,1]"
   ]
  },
  {
   "cell_type": "code",
   "execution_count": 23,
   "id": "9743a434",
   "metadata": {},
   "outputs": [],
   "source": [
    "I = np.array([[1,0,0],[0,1,0], [0,0,1] ])\n",
    "one = np.array([[1,1,1],[1,1,1], [1,1,1] ])\n",
    "n = 3\n",
    "x = np.array([2, -1, -2])"
   ]
  },
  {
   "cell_type": "code",
   "execution_count": 25,
   "id": "65059ac4",
   "metadata": {},
   "outputs": [
    {
     "data": {
      "text/plain": [
       "array([[ 0.66666667, -0.33333333, -0.33333333],\n",
       "       [-0.33333333,  0.66666667, -0.33333333],\n",
       "       [-0.33333333, -0.33333333,  0.66666667]])"
      ]
     },
     "execution_count": 25,
     "metadata": {},
     "output_type": "execute_result"
    }
   ],
   "source": [
    "H = I-one/n\n",
    "H"
   ]
  },
  {
   "cell_type": "code",
   "execution_count": 26,
   "id": "c90563ea",
   "metadata": {},
   "outputs": [
    {
     "data": {
      "text/plain": [
       "array([ 2.33333333, -0.66666667, -1.66666667])"
      ]
     },
     "execution_count": 26,
     "metadata": {},
     "output_type": "execute_result"
    }
   ],
   "source": [
    "H @ x"
   ]
  },
  {
   "cell_type": "code",
   "execution_count": 32,
   "id": "294c07fb",
   "metadata": {},
   "outputs": [
    {
     "data": {
      "text/plain": [
       "array([ 2.33333333, -0.66666667, -1.66666667])"
      ]
     },
     "execution_count": 32,
     "metadata": {},
     "output_type": "execute_result"
    }
   ],
   "source": [
    "H@H @ x"
   ]
  },
  {
   "cell_type": "code",
   "execution_count": null,
   "id": "74ec3d90",
   "metadata": {},
   "outputs": [],
   "source": []
  }
 ],
 "metadata": {
  "kernelspec": {
   "display_name": "micromasters_ml_1",
   "language": "python",
   "name": "python3"
  },
  "language_info": {
   "codemirror_mode": {
    "name": "ipython",
    "version": 3
   },
   "file_extension": ".py",
   "mimetype": "text/x-python",
   "name": "python",
   "nbconvert_exporter": "python",
   "pygments_lexer": "ipython3",
   "version": "3.11.11"
  }
 },
 "nbformat": 4,
 "nbformat_minor": 5
}
